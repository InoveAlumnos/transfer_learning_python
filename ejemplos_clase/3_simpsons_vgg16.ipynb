{
 "cells": [
  {
   "cell_type": "markdown",
   "metadata": {
    "id": "67RBrvkUviuj"
   },
   "source": [
    "<a href=\"https://www.inove.com.ar\"><img src=\"https://raw.githubusercontent.com/InoveAlumnos/dataset_analytics_python/master/images/PA%20Banner.png\" width=\"1000\" align=\"center\"></a>\n",
    "\n",
    "\n",
    "# Ejercicio de clasificación con redes neuronales convolucionales (CNN)\n",
    "\n",
    "Ejemplo de clasificación utilizando redes neuronales convolucionales para la clasificación de imagenes<br>\n",
    "\n",
    "v1.1"
   ]
  },
  {
   "cell_type": "code",
   "execution_count": null,
   "metadata": {
    "id": "y2sSeyEovSw-"
   },
   "outputs": [],
   "source": [
    "import os\n",
    "import platform\n",
    "\n",
    "import numpy as np\n",
    "import matplotlib.pyplot as plt\n",
    "import seaborn as sns\n",
    "import pandas as pd\n",
    "\n",
    "import keras\n",
    "from keras.models import Sequential\n",
    "#from keras.utils import to_categorical\n",
    "from keras.utils.np_utils import to_categorical # Si esto no funciona, probar con el import anterior\n",
    "\n",
    "from glob import glob\n",
    "import matplotlib.image as mpimg"
   ]
  },
  {
   "cell_type": "markdown",
   "metadata": {
    "id": "7Szo7P_3v00C"
   },
   "source": [
    "# Recolectar datos\n",
    "<img src=\"https://raw.githubusercontent.com/InoveAlumnos/dataset_analytics_python/master/images/Pipeline1.png\" width=\"1000\" align=\"middle\">"
   ]
  },
  {
   "cell_type": "markdown",
   "metadata": {
    "id": "BbNSgxdfw0ix"
   },
   "source": [
    "### `Simpsons dataset`:\n",
    "El dataset **`Simpsons`** contiene 550Mbytes de imagenes a color de los personajes de los Simpsons (42 personajes). Cada imagen es de tiene al rededor de 500x450 píxeles a color (3 canales).<br> [Dataset source](https://www.kaggle.com/paultimothymooney/zipfiles)"
   ]
  },
  {
   "cell_type": "code",
   "execution_count": null,
   "metadata": {
    "colab": {
     "base_uri": "https://localhost:8080/"
    },
    "executionInfo": {
     "elapsed": 7860,
     "status": "ok",
     "timestamp": 1607272238046,
     "user": {
      "displayName": "inove",
      "photoUrl": "https://lh3.googleusercontent.com/a-/AOh14GhXN9lpkKFLA5gp8tW9cD3CZ1yGa9DUy9HZOgZm=s64",
      "userId": "03494171924251581304"
     },
     "user_tz": 180
    },
    "id": "bDz09zCY6-Gn",
    "outputId": "460fa25b-980a-4f65-bf79-2ecb7c6da64a"
   },
   "outputs": [],
   "source": [
    "# Descargar el dataset\n",
    "import gdown\n",
    "if os.access('simpsons_dataset_reducido', os.F_OK) is False:\n",
    "    if os.access('simpsons_dataset_reducido.zip', os.F_OK) is False:\n",
    "        url = 'https://drive.google.com/uc?id=1LYTxnd25-QwMIZ5bP3ErGzSHRmuGDXmc'\n",
    "        output = 'simpsons_dataset_reducido.zip'\n",
    "        gdown.download(url, output, quiet=False)\n",
    "    !unzip -q simpsons_dataset_reducido.zip\n",
    "else:\n",
    "    print(\"El archivo ya se encuentra descargado\")"
   ]
  },
  {
   "cell_type": "code",
   "execution_count": null,
   "metadata": {
    "colab": {
     "base_uri": "https://localhost:8080/"
    },
    "executionInfo": {
     "elapsed": 7847,
     "status": "ok",
     "timestamp": 1607272238048,
     "user": {
      "displayName": "inove",
      "photoUrl": "https://lh3.googleusercontent.com/a-/AOh14GhXN9lpkKFLA5gp8tW9cD3CZ1yGa9DUy9HZOgZm=s64",
      "userId": "03494171924251581304"
     },
     "user_tz": 180
    },
    "id": "39D74GHn9hi1",
    "outputId": "797c3231-a45f-488c-96a5-1de2fc4ad5f1"
   },
   "outputs": [],
   "source": [
    "# Visualizar los directiorios o tipos de personas\n",
    "os.listdir(\"./simpsons_dataset_reducido\")"
   ]
  },
  {
   "cell_type": "code",
   "execution_count": null,
   "metadata": {
    "colab": {
     "base_uri": "https://localhost:8080/"
    },
    "executionInfo": {
     "elapsed": 7836,
     "status": "ok",
     "timestamp": 1607272238049,
     "user": {
      "displayName": "inove",
      "photoUrl": "https://lh3.googleusercontent.com/a-/AOh14GhXN9lpkKFLA5gp8tW9cD3CZ1yGa9DUy9HZOgZm=s64",
      "userId": "03494171924251581304"
     },
     "user_tz": 180
    },
    "id": "a_txp_MlkjN1",
    "outputId": "41c3937d-eba9-42d6-ab53-3c578e63a329"
   },
   "outputs": [],
   "source": [
    " # Visualizar los tipos de personajes\n",
    " train_dir = \"./simpsons_dataset_reducido/train\"\n",
    " validation_dir = \"./simpsons_dataset_reducido/validation\"\n",
    " os.listdir(train_dir)"
   ]
  },
  {
   "cell_type": "code",
   "execution_count": null,
   "metadata": {
    "colab": {
     "base_uri": "https://localhost:8080/"
    },
    "executionInfo": {
     "elapsed": 7824,
     "status": "ok",
     "timestamp": 1607272238050,
     "user": {
      "displayName": "inove",
      "photoUrl": "https://lh3.googleusercontent.com/a-/AOh14GhXN9lpkKFLA5gp8tW9cD3CZ1yGa9DUy9HZOgZm=s64",
      "userId": "03494171924251581304"
     },
     "user_tz": 180
    },
    "id": "ywRZdgPa97sk",
    "outputId": "dc557ea4-bb99-447b-e6bb-064eca3aa8ee"
   },
   "outputs": [],
   "source": [
    "personajes = os.listdir(train_dir)\n",
    "print(\"Cantidad de tipos de personaejs:\", len(personajes))"
   ]
  },
  {
   "cell_type": "code",
   "execution_count": null,
   "metadata": {
    "colab": {
     "base_uri": "https://localhost:8080/",
     "height": 520
    },
    "executionInfo": {
     "elapsed": 9303,
     "status": "ok",
     "timestamp": 1607272239544,
     "user": {
      "displayName": "inove",
      "photoUrl": "https://lh3.googleusercontent.com/a-/AOh14GhXN9lpkKFLA5gp8tW9cD3CZ1yGa9DUy9HZOgZm=s64",
      "userId": "03494171924251581304"
     },
     "user_tz": 180
    },
    "id": "rGbCJanFR8oL",
    "outputId": "954416f0-b994-4692-bf12-fcefd7e3ad36"
   },
   "outputs": [],
   "source": [
    "# Visualizar las 10 primeras imagenes de un personaje\n",
    "files = glob(train_dir + \"/\" + personajes[0] + \"/**.jpg\")\n",
    "\n",
    "fig = plt.figure(figsize=(16,9))\n",
    "for i in range(10):\n",
    "    ax = fig.add_subplot(2, 5, i+1)\n",
    "    ax.axis('off')\n",
    "    img = mpimg.imread(files[i])\n",
    "    plt.imshow(img)\n",
    "plt.show()"
   ]
  },
  {
   "cell_type": "code",
   "execution_count": null,
   "metadata": {
    "colab": {
     "base_uri": "https://localhost:8080/"
    },
    "executionInfo": {
     "elapsed": 9292,
     "status": "ok",
     "timestamp": 1607272239547,
     "user": {
      "displayName": "inove",
      "photoUrl": "https://lh3.googleusercontent.com/a-/AOh14GhXN9lpkKFLA5gp8tW9cD3CZ1yGa9DUy9HZOgZm=s64",
      "userId": "03494171924251581304"
     },
     "user_tz": 180
    },
    "id": "fYGanqnC_Ppw",
    "outputId": "efc0be6b-e7c6-4b5e-fccd-1f55cf564a02"
   },
   "outputs": [],
   "source": [
    "# Visualizar la dimension de la primera imagen\n",
    "img = mpimg.imread(files[0])\n",
    "img.shape"
   ]
  },
  {
   "cell_type": "code",
   "execution_count": null,
   "metadata": {
    "colab": {
     "base_uri": "https://localhost:8080/"
    },
    "executionInfo": {
     "elapsed": 9281,
     "status": "ok",
     "timestamp": 1607272239548,
     "user": {
      "displayName": "inove",
      "photoUrl": "https://lh3.googleusercontent.com/a-/AOh14GhXN9lpkKFLA5gp8tW9cD3CZ1yGa9DUy9HZOgZm=s64",
      "userId": "03494171924251581304"
     },
     "user_tz": 180
    },
    "id": "syeZ_UKH_Wsm",
    "outputId": "207a4fc9-45ba-4b76-e5fa-3e93bf2fee9b"
   },
   "outputs": [],
   "source": [
    "# Visualizar como están representados los pixeles\n",
    "print(img[85, 100:110, :])"
   ]
  },
  {
   "cell_type": "markdown",
   "metadata": {
    "id": "xF62E6R5_lDh"
   },
   "source": [
    "#### Conclusiones\n",
    "- Las imagenes tienen tamaño variable, utilizaremos un tamaño reducido para que todas las imagenes sean iguales (se elije 150x150)\n",
    "- Las imagenes están representadas de 0 a 255, hay que normalizarlas"
   ]
  },
  {
   "cell_type": "code",
   "execution_count": null,
   "metadata": {
    "colab": {
     "base_uri": "https://localhost:8080/",
     "height": 554
    },
    "executionInfo": {
     "elapsed": 10009,
     "status": "ok",
     "timestamp": 1607272240290,
     "user": {
      "displayName": "inove",
      "photoUrl": "https://lh3.googleusercontent.com/a-/AOh14GhXN9lpkKFLA5gp8tW9cD3CZ1yGa9DUy9HZOgZm=s64",
      "userId": "03494171924251581304"
     },
     "user_tz": 180
    },
    "id": "CuZi82nO_4wq",
    "outputId": "03eb14ee-e07e-4be4-a54a-bb5cc786292f"
   },
   "outputs": [],
   "source": [
    "# Analizar cuantos personajes hay de cada uno\n",
    "nombre_personajes = []\n",
    "cantidad_personajes = []\n",
    "for personaje in personajes:\n",
    "    nombre_personaje = personaje.split(\"_\")[0]\n",
    "    files = glob(train_dir + \"/\" + personaje + \"/**.jpg\")\n",
    "    nombre_personajes.append(nombre_personaje)\n",
    "    cantidad_personajes.append(len(files))\n",
    "\n",
    "print(\"Cantidad de\", nombre_personajes[0], \":\", cantidad_personajes[0])\n",
    "fig = plt.figure(figsize=(16,9))\n",
    "ax = fig.add_subplot()\n",
    "sns.barplot(x=nombre_personajes, y=cantidad_personajes, ax=ax)\n",
    "plt.show()"
   ]
  },
  {
   "cell_type": "markdown",
   "metadata": {
    "id": "OnSk4BbBBR_t"
   },
   "source": [
    "Se puede ver que el dataset está bastante balanceado"
   ]
  },
  {
   "cell_type": "code",
   "execution_count": null,
   "metadata": {
    "colab": {
     "base_uri": "https://localhost:8080/"
    },
    "executionInfo": {
     "elapsed": 9998,
     "status": "ok",
     "timestamp": 1607272240292,
     "user": {
      "displayName": "inove",
      "photoUrl": "https://lh3.googleusercontent.com/a-/AOh14GhXN9lpkKFLA5gp8tW9cD3CZ1yGa9DUy9HZOgZm=s64",
      "userId": "03494171924251581304"
     },
     "user_tz": 180
    },
    "id": "4_NjEA__fLBk",
    "outputId": "dcdf7fa8-17b5-4149-ab30-7f87690b0502"
   },
   "outputs": [],
   "source": [
    "# Descargar datos de test\n",
    "if os.access('simpsons_test', os.F_OK) is False:\n",
    "    if os.access('simpsons_test.zip', os.F_OK) is False:\n",
    "        if platform.system() == 'Windows':\n",
    "            !curl https://github.com/InoveAlumnos/dataset_analytics_python/raw/master/simpsons_test.zip > simpsons_test.zip\n",
    "        else:\n",
    "            !wget simpsons_test.zip https://github.com/InoveAlumnos/dataset_analytics_python/raw/master/simpsons_test.zip\n",
    "    !unzip -q simpsons_test.zip\n",
    "else:\n",
    "    print(\"El archivo ya se encuentra descargado\")"
   ]
  },
  {
   "cell_type": "markdown",
   "metadata": {
    "id": "NHHsGe1Qypde"
   },
   "source": [
    "# Procesar datos\n",
    "<img src=\"https://raw.githubusercontent.com/InoveAlumnos/dataset_analytics_python/master/images/Pipeline2.png\" width=\"1000\" align=\"middle\">"
   ]
  },
  {
   "cell_type": "code",
   "execution_count": null,
   "metadata": {
    "colab": {
     "base_uri": "https://localhost:8080/"
    },
    "executionInfo": {
     "elapsed": 9987,
     "status": "ok",
     "timestamp": 1607272240293,
     "user": {
      "displayName": "inove",
      "photoUrl": "https://lh3.googleusercontent.com/a-/AOh14GhXN9lpkKFLA5gp8tW9cD3CZ1yGa9DUy9HZOgZm=s64",
      "userId": "03494171924251581304"
     },
     "user_tz": 180
    },
    "id": "uvzaKBMbyoiy",
    "outputId": "2d05f57c-8339-4edb-8f54-bb3d59e160ae"
   },
   "outputs": [],
   "source": [
    "from keras.preprocessing.image import ImageDataGenerator\n",
    "\n",
    "# Crear un generador, indicando si deseamos realizar un escalado de la imagen\n",
    "train_datagen = ImageDataGenerator(rescale=1./255)\n",
    "\n",
    "validation_datagen = ImageDataGenerator(rescale=1./255)\n",
    "\n",
    "train_generator = train_datagen.flow_from_directory(\n",
    "        directory=train_dir,\n",
    "        target_size=(150, 150),\n",
    "        batch_size=140,\n",
    "        class_mode=\"categorical\")\n",
    "\n",
    "validation_generator = validation_datagen.flow_from_directory(\n",
    "        directory=validation_dir,\n",
    "        target_size=(150, 150),\n",
    "        batch_size=80,\n",
    "        class_mode=\"categorical\")\n",
    "\n",
    "index_to_classes = dict(zip(train_generator.class_indices.values(), train_generator.class_indices.keys()))\n"
   ]
  },
  {
   "cell_type": "markdown",
   "metadata": {
    "id": "0BnzYdlRzBxz"
   },
   "source": [
    "# Explorar datos\n",
    "<img src=\"https://raw.githubusercontent.com/InoveAlumnos/dataset_analytics_python/master/images/Pipeline3.png\" width=\"1000\" align=\"middle\">"
   ]
  },
  {
   "cell_type": "code",
   "execution_count": null,
   "metadata": {
    "id": "vV05awstE6RX"
   },
   "outputs": [],
   "source": [
    "# El generador \"train_generator\" se lo puede utilizar para acceder a los datos\n",
    "# de a cantidad batch de imagenes. En este caso el generador me retornará\n",
    "# la primera vez las primeras 20 imagenes\n",
    "# El generador devuelve las imagenes (X) y las clases(personaes) a las que\n",
    "# pertenece (y)\n",
    "# X, y = train_generator.next()\n",
    "batch_imagenes, batch_clases = train_generator.next()"
   ]
  },
  {
   "cell_type": "code",
   "execution_count": null,
   "metadata": {
    "colab": {
     "base_uri": "https://localhost:8080/"
    },
    "executionInfo": {
     "elapsed": 10725,
     "status": "ok",
     "timestamp": 1607272241047,
     "user": {
      "displayName": "inove",
      "photoUrl": "https://lh3.googleusercontent.com/a-/AOh14GhXN9lpkKFLA5gp8tW9cD3CZ1yGa9DUy9HZOgZm=s64",
      "userId": "03494171924251581304"
     },
     "user_tz": 180
    },
    "id": "H9jbktbPF7u3",
    "outputId": "2b18de06-72eb-451c-a8ab-9b755715aa59"
   },
   "outputs": [],
   "source": [
    "batch_imagenes.shape"
   ]
  },
  {
   "cell_type": "code",
   "execution_count": null,
   "metadata": {
    "colab": {
     "base_uri": "https://localhost:8080/"
    },
    "executionInfo": {
     "elapsed": 10714,
     "status": "ok",
     "timestamp": 1607272241048,
     "user": {
      "displayName": "inove",
      "photoUrl": "https://lh3.googleusercontent.com/a-/AOh14GhXN9lpkKFLA5gp8tW9cD3CZ1yGa9DUy9HZOgZm=s64",
      "userId": "03494171924251581304"
     },
     "user_tz": 180
    },
    "id": "KmdCnAQ2Kd7x",
    "outputId": "3394d14c-2c78-4d68-ad3b-1b10f09b364e"
   },
   "outputs": [],
   "source": [
    "batch_clases.shape"
   ]
  },
  {
   "cell_type": "code",
   "execution_count": null,
   "metadata": {
    "colab": {
     "base_uri": "https://localhost:8080/"
    },
    "executionInfo": {
     "elapsed": 10704,
     "status": "ok",
     "timestamp": 1607272241049,
     "user": {
      "displayName": "inove",
      "photoUrl": "https://lh3.googleusercontent.com/a-/AOh14GhXN9lpkKFLA5gp8tW9cD3CZ1yGa9DUy9HZOgZm=s64",
      "userId": "03494171924251581304"
     },
     "user_tz": 180
    },
    "id": "vGCIcOPSGSk1",
    "outputId": "8e28e7ea-21a5-4058-f6ee-8336fc499132"
   },
   "outputs": [],
   "source": [
    "print(\"Cantidad de imagenes en el batch:\", batch_imagenes.shape[0])\n",
    "print(\"Dimensión de la imagen:\", batch_imagenes.shape[1:])"
   ]
  },
  {
   "cell_type": "code",
   "execution_count": null,
   "metadata": {
    "colab": {
     "base_uri": "https://localhost:8080/"
    },
    "executionInfo": {
     "elapsed": 10692,
     "status": "ok",
     "timestamp": 1607272241050,
     "user": {
      "displayName": "inove",
      "photoUrl": "https://lh3.googleusercontent.com/a-/AOh14GhXN9lpkKFLA5gp8tW9cD3CZ1yGa9DUy9HZOgZm=s64",
      "userId": "03494171924251581304"
     },
     "user_tz": 180
    },
    "id": "u_jnc_dqKgCt",
    "outputId": "9401a2d9-5382-41d4-c4b5-512b2bbda263"
   },
   "outputs": [],
   "source": [
    "print(\"Cantidad de clases/personajes:\", batch_clases.shape[1])"
   ]
  },
  {
   "cell_type": "code",
   "execution_count": null,
   "metadata": {
    "colab": {
     "base_uri": "https://localhost:8080/",
     "height": 218
    },
    "executionInfo": {
     "elapsed": 11916,
     "status": "ok",
     "timestamp": 1607272242291,
     "user": {
      "displayName": "inove",
      "photoUrl": "https://lh3.googleusercontent.com/a-/AOh14GhXN9lpkKFLA5gp8tW9cD3CZ1yGa9DUy9HZOgZm=s64",
      "userId": "03494171924251581304"
     },
     "user_tz": 180
    },
    "id": "dUbEzgZsGfDB",
    "outputId": "881464f5-bc89-406d-b777-33a415637ab4"
   },
   "outputs": [],
   "source": [
    "# Observar las primeras 5 imagenes de ese batch\n",
    "fig = plt.figure(figsize=(16,9))\n",
    "for i in range(5):\n",
    "    ax = fig.add_subplot(1, 5, i+1)\n",
    "    ax.imshow(batch_imagenes[i])\n",
    "    numero_clase = batch_clases[i].argmax()\n",
    "    ax.set_title(index_to_classes[numero_clase])\n",
    "plt.show()"
   ]
  },
  {
   "cell_type": "markdown",
   "metadata": {
    "id": "AmZRSSv1JPMz"
   },
   "source": [
    "__Importante__! Luego de usar un generador \"jugando\", ese batch de imagenes que sacamos ya no se encontrará disponible para ser utilizado en el entrenamiento, es recomendable volver a crear los generadores si se los consumen"
   ]
  },
  {
   "cell_type": "code",
   "execution_count": null,
   "metadata": {
    "colab": {
     "base_uri": "https://localhost:8080/"
    },
    "executionInfo": {
     "elapsed": 817,
     "status": "ok",
     "timestamp": 1607272338486,
     "user": {
      "displayName": "inove",
      "photoUrl": "https://lh3.googleusercontent.com/a-/AOh14GhXN9lpkKFLA5gp8tW9cD3CZ1yGa9DUy9HZOgZm=s64",
      "userId": "03494171924251581304"
     },
     "user_tz": 180
    },
    "id": "wt_1BC0cKEcz",
    "outputId": "55778de9-1148-467d-af1b-cceb74e40112"
   },
   "outputs": [],
   "source": [
    "# Crear un generador, indicando si deseamos realizar un escalado de la imagen\n",
    "train_datagen = ImageDataGenerator(rescale=1./255)\n",
    "\n",
    "train_generator = train_datagen.flow_from_directory(\n",
    "        directory=train_dir,\n",
    "        target_size=(150, 150),\n",
    "        batch_size=140,\n",
    "        class_mode=\"categorical\")\n",
    "\n",
    "index_to_classes = dict(zip(train_generator.class_indices.values(), train_generator.class_indices.keys()))"
   ]
  },
  {
   "cell_type": "markdown",
   "metadata": {
    "id": "7z_SuZlj3gbQ"
   },
   "source": [
    "# Entrenar modelo\n",
    "<img src=\"https://raw.githubusercontent.com/InoveAlumnos/dataset_analytics_python/master/images/Pipeline4.png\" width=\"1000\" align=\"middle\">"
   ]
  },
  {
   "cell_type": "code",
   "execution_count": null,
   "metadata": {
    "id": "3vdIz9_r-sMe"
   },
   "outputs": [],
   "source": [
    "# Los generadores ya que encargan de transformar la salida a oneHotEncoding"
   ]
  },
  {
   "cell_type": "code",
   "execution_count": null,
   "metadata": {
    "colab": {
     "base_uri": "https://localhost:8080/"
    },
    "executionInfo": {
     "elapsed": 11891,
     "status": "ok",
     "timestamp": 1607272242296,
     "user": {
      "displayName": "inove",
      "photoUrl": "https://lh3.googleusercontent.com/a-/AOh14GhXN9lpkKFLA5gp8tW9cD3CZ1yGa9DUy9HZOgZm=s64",
      "userId": "03494171924251581304"
     },
     "user_tz": 180
    },
    "id": "5Wb3oMvn-mIF",
    "outputId": "1892357a-1b11-4de4-e84d-3ac51f78e308"
   },
   "outputs": [],
   "source": [
    "# input shape (observado del análisis de datos)\n",
    "in_shape = (150, 150, 3)\n",
    "in_shape"
   ]
  },
  {
   "cell_type": "code",
   "execution_count": null,
   "metadata": {
    "colab": {
     "base_uri": "https://localhost:8080/"
    },
    "executionInfo": {
     "elapsed": 11881,
     "status": "ok",
     "timestamp": 1607272242297,
     "user": {
      "displayName": "inove",
      "photoUrl": "https://lh3.googleusercontent.com/a-/AOh14GhXN9lpkKFLA5gp8tW9cD3CZ1yGa9DUy9HZOgZm=s64",
      "userId": "03494171924251581304"
     },
     "user_tz": 180
    },
    "id": "wpYcXh1g_N3Q",
    "outputId": "9b26bfff-b680-461c-9bb2-5aee2f59fc2f"
   },
   "outputs": [],
   "source": [
    "# output shape (observado del análisis de datos)\n",
    "out_shape = 42\n",
    "out_shape"
   ]
  },
  {
   "cell_type": "code",
   "execution_count": null,
   "metadata": {
    "colab": {
     "base_uri": "https://localhost:8080/"
    },
    "executionInfo": {
     "elapsed": 771,
     "status": "ok",
     "timestamp": 1607272347416,
     "user": {
      "displayName": "inove",
      "photoUrl": "https://lh3.googleusercontent.com/a-/AOh14GhXN9lpkKFLA5gp8tW9cD3CZ1yGa9DUy9HZOgZm=s64",
      "userId": "03494171924251581304"
     },
     "user_tz": 180
    },
    "id": "pQ8tQk2DMgBd",
    "outputId": "82be2caa-7d27-424e-f3c8-791c94d4d39c"
   },
   "outputs": [],
   "source": [
    "# Debemos definir cuantas imagenes se consumiran por epoca (steps_per_epoch)\n",
    "# ya que estando el generador en el medio Keras no puede saberlo por\n",
    "# su cuenta\n",
    "steps_per_epoch_train = len(train_generator)\n",
    "steps_per_epoch_train"
   ]
  },
  {
   "cell_type": "code",
   "execution_count": null,
   "metadata": {
    "colab": {
     "base_uri": "https://localhost:8080/"
    },
    "executionInfo": {
     "elapsed": 11860,
     "status": "ok",
     "timestamp": 1607272242299,
     "user": {
      "displayName": "inove",
      "photoUrl": "https://lh3.googleusercontent.com/a-/AOh14GhXN9lpkKFLA5gp8tW9cD3CZ1yGa9DUy9HZOgZm=s64",
      "userId": "03494171924251581304"
     },
     "user_tz": 180
    },
    "id": "h-ThxJzgmEmj",
    "outputId": "919dfc14-9fc2-45f7-8e3c-a6bb0bdf6201"
   },
   "outputs": [],
   "source": [
    "steps_per_epoch_validation = len(validation_generator)\n",
    "steps_per_epoch_validation"
   ]
  },
  {
   "cell_type": "code",
   "execution_count": null,
   "metadata": {
    "colab": {
     "base_uri": "https://localhost:8080/"
    },
    "executionInfo": {
     "elapsed": 1033,
     "status": "ok",
     "timestamp": 1607272350796,
     "user": {
      "displayName": "inove",
      "photoUrl": "https://lh3.googleusercontent.com/a-/AOh14GhXN9lpkKFLA5gp8tW9cD3CZ1yGa9DUy9HZOgZm=s64",
      "userId": "03494171924251581304"
     },
     "user_tz": 180
    },
    "id": "OeoJHK4U2xJi",
    "outputId": "cca20c99-fecb-4528-f002-c478f0640527"
   },
   "outputs": [],
   "source": [
    "from tensorflow.keras.applications import VGG16\n",
    "\n",
    "# Traemos el modelo VGG16 pre entrenado con los pesos\n",
    "# obtenidos del dataset de ImageNet\n",
    "# Indicamos que no deseamos las ultimas capsa\n",
    "# de claseificación de la red (include_top=False)\n",
    "# Indicamos que no deseamos que los pesos de la red\n",
    "# sean entrenados (vgg_base.trainable=False)\n",
    "\n",
    "vgg_base = VGG16(weights='imagenet',\n",
    "                  include_top=False,\n",
    "                  input_shape=in_shape)\n",
    "vgg_base.trainable=False\n",
    "vgg_base.summary()"
   ]
  },
  {
   "cell_type": "code",
   "execution_count": null,
   "metadata": {
    "colab": {
     "base_uri": "https://localhost:8080/"
    },
    "executionInfo": {
     "elapsed": 831,
     "status": "ok",
     "timestamp": 1607273058736,
     "user": {
      "displayName": "inove",
      "photoUrl": "https://lh3.googleusercontent.com/a-/AOh14GhXN9lpkKFLA5gp8tW9cD3CZ1yGa9DUy9HZOgZm=s64",
      "userId": "03494171924251581304"
     },
     "user_tz": 180
    },
    "id": "fu1u9JhXq9Dy",
    "outputId": "a1381830-b45e-45f4-8a16-1e1045ae6df7"
   },
   "outputs": [],
   "source": [
    "from keras.layers import Dense, Dropout, Flatten\n",
    "from keras.layers.convolutional import Conv2D, MaxPooling2D\n",
    "\n",
    "model = Sequential()\n",
    "\n",
    "# Ahora agregaremos más pares de capas CONV + POOL a fin de reducir más la\n",
    "# dimensión de la imagen antes de llegar a la capa flatten\n",
    "# Otra estrategia es ir aumentando la cantidad de filtros a medida que crece\n",
    "# la profundidad de la red\n",
    "\n",
    "model.add(vgg_base)\n",
    "\n",
    "model.add(Flatten())\n",
    "model.add(Dense(units=128, activation='relu'))\n",
    "model.add(Dropout(rate=0.2))\n",
    "model.add(Dense(units=64, activation='relu'))\n",
    "model.add(Dropout(rate=0.2))\n",
    "model.add(Dense(units=out_shape, activation='softmax'))\n",
    "\n",
    "model.compile(optimizer=\"Adam\",\n",
    "              loss='categorical_crossentropy',\n",
    "              metrics=['accuracy'])"
   ]
  },
  {
   "cell_type": "code",
   "execution_count": null,
   "metadata": {
    "colab": {
     "base_uri": "https://localhost:8080/"
    },
    "executionInfo": {
     "elapsed": 120916,
     "status": "ok",
     "timestamp": 1607273187912,
     "user": {
      "displayName": "inove",
      "photoUrl": "https://lh3.googleusercontent.com/a-/AOh14GhXN9lpkKFLA5gp8tW9cD3CZ1yGa9DUy9HZOgZm=s64",
      "userId": "03494171924251581304"
     },
     "user_tz": 180
    },
    "id": "J_89g3dSm2wf",
    "outputId": "8b2fb9c5-d0df-4c0f-b884-0117215d9391"
   },
   "outputs": [],
   "source": [
    "history = model.fit(\n",
    "      train_generator,\n",
    "      steps_per_epoch=steps_per_epoch_train,\n",
    "      validation_data=validation_generator,\n",
    "      validation_steps=steps_per_epoch_validation,\n",
    "      epochs=20\n",
    "      )"
   ]
  },
  {
   "cell_type": "code",
   "execution_count": null,
   "metadata": {
    "colab": {
     "base_uri": "https://localhost:8080/",
     "height": 265
    },
    "executionInfo": {
     "elapsed": 764,
     "status": "ok",
     "timestamp": 1607273192669,
     "user": {
      "displayName": "inove",
      "photoUrl": "https://lh3.googleusercontent.com/a-/AOh14GhXN9lpkKFLA5gp8tW9cD3CZ1yGa9DUy9HZOgZm=s64",
      "userId": "03494171924251581304"
     },
     "user_tz": 180
    },
    "id": "xDuagYJHvNlm",
    "outputId": "5489e3c4-7fff-4edd-ac17-38c6ced5dc45"
   },
   "outputs": [],
   "source": [
    "epoch_count = range(1, len(history.history['accuracy']) + 1)\n",
    "sns.lineplot(x=epoch_count,  y=history.history['accuracy'], label='train')\n",
    "sns.lineplot(x=epoch_count,  y=history.history['val_accuracy'], label='val')\n",
    "plt.show()"
   ]
  },
  {
   "cell_type": "code",
   "execution_count": null,
   "metadata": {},
   "outputs": [],
   "source": [
    "model.summary()"
   ]
  },
  {
   "cell_type": "code",
   "execution_count": null,
   "metadata": {
    "colab": {
     "base_uri": "https://localhost:8080/"
    },
    "executionInfo": {
     "elapsed": 899,
     "status": "ok",
     "timestamp": 1607273197337,
     "user": {
      "displayName": "inove",
      "photoUrl": "https://lh3.googleusercontent.com/a-/AOh14GhXN9lpkKFLA5gp8tW9cD3CZ1yGa9DUy9HZOgZm=s64",
      "userId": "03494171924251581304"
     },
     "user_tz": 180
    },
    "id": "EsH5q9y6Qt1-",
    "outputId": "1a5458c8-ac2a-432d-af31-e8bf48aed241"
   },
   "outputs": [],
   "source": [
    "# Predecir los datos\n",
    "test_datagen = ImageDataGenerator(rescale=1./255)\n",
    "\n",
    "test_generator = test_datagen.flow_from_directory(\n",
    "        directory=\"./simpsons_test\",\n",
    "        target_size=(150, 150),\n",
    "        batch_size=10,\n",
    "        class_mode=None,\n",
    "        shuffle=False)\n",
    "\n",
    "y_hat_prob = model.predict(test_generator)\n",
    "y_hat_prob[0]"
   ]
  },
  {
   "cell_type": "code",
   "execution_count": null,
   "metadata": {
    "colab": {
     "base_uri": "https://localhost:8080/"
    },
    "executionInfo": {
     "elapsed": 1083,
     "status": "ok",
     "timestamp": 1607273199836,
     "user": {
      "displayName": "inove",
      "photoUrl": "https://lh3.googleusercontent.com/a-/AOh14GhXN9lpkKFLA5gp8tW9cD3CZ1yGa9DUy9HZOgZm=s64",
      "userId": "03494171924251581304"
     },
     "user_tz": 180
    },
    "id": "qxs4EZSBAZoh",
    "outputId": "74736f46-c220-4b1a-ecfa-15017550559a"
   },
   "outputs": [],
   "source": [
    "y_hat = np.argmax(y_hat_prob,axis=1)\n",
    "y_hat"
   ]
  },
  {
   "cell_type": "code",
   "execution_count": null,
   "metadata": {
    "colab": {
     "base_uri": "https://localhost:8080/"
    },
    "executionInfo": {
     "elapsed": 999,
     "status": "ok",
     "timestamp": 1607273202057,
     "user": {
      "displayName": "inove",
      "photoUrl": "https://lh3.googleusercontent.com/a-/AOh14GhXN9lpkKFLA5gp8tW9cD3CZ1yGa9DUy9HZOgZm=s64",
      "userId": "03494171924251581304"
     },
     "user_tz": 180
    },
    "id": "iBqoGBsIS4Rr",
    "outputId": "614f647b-e39d-41c7-b289-d865cc7a41f4"
   },
   "outputs": [],
   "source": [
    "#¿Cómo obtenemos el \"y\" verdadero?\n",
    "test_generator.filenames"
   ]
  },
  {
   "cell_type": "code",
   "execution_count": null,
   "metadata": {
    "colab": {
     "base_uri": "https://localhost:8080/"
    },
    "executionInfo": {
     "elapsed": 818,
     "status": "ok",
     "timestamp": 1607273203215,
     "user": {
      "displayName": "inove",
      "photoUrl": "https://lh3.googleusercontent.com/a-/AOh14GhXN9lpkKFLA5gp8tW9cD3CZ1yGa9DUy9HZOgZm=s64",
      "userId": "03494171924251581304"
     },
     "user_tz": 180
    },
    "id": "AaIy0eJFS_bn",
    "outputId": "f076595b-fbef-423b-810a-e82104314ac2"
   },
   "outputs": [],
   "source": [
    "# Muy rebuscada esta forma de obtener los nombres de los personajes!\n",
    "# Pero en general cuando tenemos los datos de test no tenemos los nombres\n",
    "# por lo que no tenemos el \"y\" verdadero\n",
    "personajes_test = []\n",
    "for file in test_generator.filenames:\n",
    "    image_name = os.path.basename(file)\n",
    "    image_name_split = image_name.split(\"_\")\n",
    "    personaje_name_split = image_name_split[:len(image_name_split)-1]\n",
    "    personaje = personaje_name_split[0]\n",
    "    for name in personaje_name_split[1:]:\n",
    "        personaje += \"_\" + name\n",
    "    personajes_test.append(personaje)\n",
    "personajes_test"
   ]
  },
  {
   "cell_type": "code",
   "execution_count": null,
   "metadata": {
    "colab": {
     "base_uri": "https://localhost:8080/"
    },
    "executionInfo": {
     "elapsed": 753,
     "status": "ok",
     "timestamp": 1607273204295,
     "user": {
      "displayName": "inove",
      "photoUrl": "https://lh3.googleusercontent.com/a-/AOh14GhXN9lpkKFLA5gp8tW9cD3CZ1yGa9DUy9HZOgZm=s64",
      "userId": "03494171924251581304"
     },
     "user_tz": 180
    },
    "id": "eUeviz_CUXlK",
    "outputId": "0c15eabf-0018-4e9b-dcf7-5c3e73d9dddc"
   },
   "outputs": [],
   "source": [
    "# Obtener el \"y\" verdadero\n",
    "y_test = [train_generator.class_indices[personaje] for personaje in personajes_test]\n",
    "y_test"
   ]
  },
  {
   "cell_type": "markdown",
   "metadata": {
    "id": "w3IfjUuI4XnD"
   },
   "source": [
    "# Validar modelo\n",
    "<img src=\"https://raw.githubusercontent.com/InoveAlumnos/dataset_analytics_python/master/images/Pipeline5.png\" width=\"1000\" align=\"middle\">"
   ]
  },
  {
   "cell_type": "code",
   "execution_count": null,
   "metadata": {
    "colab": {
     "base_uri": "https://localhost:8080/"
    },
    "executionInfo": {
     "elapsed": 1114,
     "status": "ok",
     "timestamp": 1607273206213,
     "user": {
      "displayName": "inove",
      "photoUrl": "https://lh3.googleusercontent.com/a-/AOh14GhXN9lpkKFLA5gp8tW9cD3CZ1yGa9DUy9HZOgZm=s64",
      "userId": "03494171924251581304"
     },
     "user_tz": 180
    },
    "id": "HnXeXHwdyHVx",
    "outputId": "44dc3f8b-66c5-4a3e-d838-7d3f63a1ce57"
   },
   "outputs": [],
   "source": [
    "# Calcular la exactitud (accuracy)\n",
    "from sklearn.metrics import accuracy_score\n",
    "accuracy_score(y_test, y_hat)"
   ]
  },
  {
   "cell_type": "code",
   "execution_count": null,
   "metadata": {
    "colab": {
     "base_uri": "https://localhost:8080/",
     "height": 283
    },
    "executionInfo": {
     "elapsed": 1279,
     "status": "ok",
     "timestamp": 1607273223558,
     "user": {
      "displayName": "inove",
      "photoUrl": "https://lh3.googleusercontent.com/a-/AOh14GhXN9lpkKFLA5gp8tW9cD3CZ1yGa9DUy9HZOgZm=s64",
      "userId": "03494171924251581304"
     },
     "user_tz": 180
    },
    "id": "TeLeYLYz6ZhO",
    "outputId": "3135bfcf-4b20-47c7-c7b0-3b93b1d517f2"
   },
   "outputs": [],
   "source": [
    "from sklearn.metrics import confusion_matrix, ConfusionMatrixDisplay\n",
    "cm = confusion_matrix(y_test, y_hat)\n",
    "cmd = ConfusionMatrixDisplay(cm, display_labels=range(47))\n",
    "cmd.plot(cmap=plt.cm.Blues)\n",
    "plt.show()"
   ]
  },
  {
   "cell_type": "markdown",
   "metadata": {
    "id": "9dZxGbjG96jR"
   },
   "source": [
    "# Utilizar modelo\n",
    "<img src=\"https://raw.githubusercontent.com/InoveAlumnos/dataset_analytics_python/master/images/Pipeline6.png\" width=\"1000\" align=\"middle\">"
   ]
  },
  {
   "cell_type": "markdown",
   "metadata": {
    "id": "M6Tc5nBqbow8"
   },
   "source": [
    "Se utiliza el ranking de los peores 10 números clasificados con una ANN para evlauar contra este nuevo modelo de red neuronal"
   ]
  },
  {
   "cell_type": "code",
   "execution_count": null,
   "metadata": {
    "id": "noOsuU6Tb4GZ"
   },
   "outputs": [],
   "source": [
    "batch_test = test_generator.next()"
   ]
  },
  {
   "cell_type": "code",
   "execution_count": null,
   "metadata": {
    "colab": {
     "base_uri": "https://localhost:8080/",
     "height": 485
    },
    "executionInfo": {
     "elapsed": 2993,
     "status": "ok",
     "timestamp": 1607273231456,
     "user": {
      "displayName": "inove",
      "photoUrl": "https://lh3.googleusercontent.com/a-/AOh14GhXN9lpkKFLA5gp8tW9cD3CZ1yGa9DUy9HZOgZm=s64",
      "userId": "03494171924251581304"
     },
     "user_tz": 180
    },
    "id": "Cefy3ktFb6j6",
    "outputId": "33404a87-b0ea-41fb-8b7d-7ff550253b8d"
   },
   "outputs": [],
   "source": [
    "# Observar las primeras 5 imagenes de ese batch\n",
    "fig = plt.figure(figsize=(16,9))\n",
    "for i in range(10):\n",
    "    ax = fig.add_subplot(2, 5, i+1)\n",
    "    ax.imshow(batch_test[i])\n",
    "    numero_clase = y_hat[i]\n",
    "    ax.set_title(index_to_classes[numero_clase])\n",
    "plt.show()"
   ]
  },
  {
   "cell_type": "markdown",
   "metadata": {
    "id": "h7yzVZcZ9-4m"
   },
   "source": [
    "# Conclusión\n",
    "<img src=\"https://raw.githubusercontent.com/InoveAlumnos/dataset_analytics_python/master/images/Pipeline7.png\" width=\"1000\" align=\"middle\">"
   ]
  },
  {
   "cell_type": "markdown",
   "metadata": {
    "id": "sWAReOgo-B7b"
   },
   "source": [
    "Se puede observar que con transfer learning se obtuvo un mejor resultado pero aún no es suficiente. Esto es porque la red VGG nunca en el pasado vio los personajes de los simpsons, que son personajes inventados con características que no encontraremos en las imagenes de personas las cuales se usaron para entrenar a este modelo."
   ]
  }
 ],
 "metadata": {
  "accelerator": "GPU",
  "colab": {
   "collapsed_sections": [],
   "name": "3_simpsons_vgg16.ipynb",
   "provenance": [],
   "toc_visible": true
  },
  "kernelspec": {
   "display_name": "Python 3",
   "language": "python",
   "name": "python3"
  },
  "language_info": {
   "codemirror_mode": {
    "name": "ipython",
    "version": 3
   },
   "file_extension": ".py",
   "mimetype": "text/x-python",
   "name": "python",
   "nbconvert_exporter": "python",
   "pygments_lexer": "ipython3",
   "version": "3.7.0"
  }
 },
 "nbformat": 4,
 "nbformat_minor": 4
}