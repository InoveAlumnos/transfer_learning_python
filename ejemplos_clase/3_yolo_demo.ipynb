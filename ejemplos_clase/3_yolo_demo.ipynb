{
  "nbformat": 4,
  "nbformat_minor": 0,
  "metadata": {
    "colab": {
      "provenance": []
    },
    "kernelspec": {
      "name": "python3",
      "display_name": "Python 3"
    },
    "accelerator": "GPU"
  },
  "cells": [
    {
      "cell_type": "markdown",
      "metadata": {
        "id": "-2iG_qHQiwDQ"
      },
      "source": [
        "<a href=\"https://www.inove.com.ar\"><img src=\"https://raw.githubusercontent.com/InoveAlumnos/dataset_analytics_python/master/images/PA%20Banner.png\" width=\"1000\" align=\"center\"></a>\n",
        "\n",
        "\n",
        "# Demo de Yolo (you only looks once)\n",
        "\n",
        "Detección de objetos en imagenes<br>\n",
        "\n",
        "Esta demo está basada en el siguiente repositorio<br>\n",
        "[Dataset source](https://github.com/pythonlessons/TensorFlow-2.x-YOLOv3)\n",
        "<br>\n",
        "v1.1"
      ]
    },
    {
      "cell_type": "markdown",
      "source": [
        "# Objetivo: Implementar YOLO"
      ],
      "metadata": {
        "id": "mlKi6NdZmdbt"
      }
    },
    {
      "cell_type": "code",
      "metadata": {
        "id": "WEC21aLIvSiy"
      },
      "source": [
        "#Librerias a implementar\n",
        "import os\n",
        "import platform\n",
        "\n",
        "import numpy as np\n",
        "import matplotlib.pyplot as plt\n",
        "import matplotlib.image as mpimg\n",
        "\n",
        "os.environ['CUDA_VISIBLE_DEVICES'] = '0'\n",
        "import cv2\n",
        "import time\n",
        "from google.colab.patches import cv2_imshow"
      ],
      "execution_count": null,
      "outputs": []
    },
    {
      "cell_type": "markdown",
      "source": [
        "## Código de descarga "
      ],
      "metadata": {
        "id": "paN95rG0mrEZ"
      }
    },
    {
      "cell_type": "code",
      "metadata": {
        "id": "GG0-gGhQxgS-"
      },
      "source": [
        "# Descargar la carpeta demo\n",
        "if os.access('yolo_demo', os.F_OK) is False:\n",
        "    if os.access('yolo_demo.zip', os.F_OK) is False:\n",
        "        if platform.system() == 'Windows':\n",
        "            !curl https://github.com/InoveAlumnos/transfer_learning_python/raw/main/anexo/yolo_demo.zip > yolo_demo.zip\n",
        "        else:\n",
        "            !wget yolo_demo.zip https://github.com/InoveAlumnos/transfer_learning_python/raw/main/anexo/yolo_demo.zip\n",
        "    !unzip -q yolo_demo.zip\n",
        "else:\n",
        "    print(\"El archivo ya se encuentra descargado\")"
      ],
      "execution_count": null,
      "outputs": []
    },
    {
      "cell_type": "markdown",
      "source": [
        "# Descargar los pesos"
      ],
      "metadata": {
        "id": "xokk9z8QmvwZ"
      }
    },
    {
      "cell_type": "code",
      "metadata": {
        "id": "PV5utD5sjSgP"
      },
      "source": [
        "import os\n",
        "if os.access('./model_data/yolov3.weights', os.F_OK) is False:\n",
        "    !mkdir -p model_data\n",
        "    !curl -L -o './model_data/yolov3.weights' 'https://drive.google.com/u/0/uc?id=1xOpcOlyZazI3FG5cnDoMHdE3cQuy_s5Z&export=download&confirm=t'"
      ],
      "execution_count": null,
      "outputs": []
    },
    {
      "cell_type": "markdown",
      "source": [
        "# Descargar la imagen de prueba"
      ],
      "metadata": {
        "id": "ljIAnQn8mydK"
      }
    },
    {
      "cell_type": "code",
      "metadata": {
        "id": "tASuNwUN3lNW"
      },
      "source": [
        "if os.access('street.jpg', os.F_OK) is False:\n",
        "    if platform.system() == 'Windows':\n",
        "        !curl https://raw.githubusercontent.com/InoveAlumnos/transfer_learning_python/main/imagenes/street.jpg > street.jpg\n",
        "    else:\n",
        "        !wget street.jpg https://raw.githubusercontent.com/InoveAlumnos/transfer_learning_python/main/imagenes/street.jpg"
      ],
      "execution_count": null,
      "outputs": []
    },
    {
      "cell_type": "markdown",
      "source": [
        "# Descargar el video de prueba"
      ],
      "metadata": {
        "id": "riM4gp3Km0wp"
      }
    },
    {
      "cell_type": "code",
      "metadata": {
        "id": "-ZCR7FFP340y"
      },
      "source": [
        "if os.access('video.mp4', os.F_OK) is False:\n",
        "    if platform.system() == 'Windows':\n",
        "        !curl https://github.com/InoveAlumnos/transfer_learning_python/raw/main/imagenes/video.mp4 > video.mp4\n",
        "    else:\n",
        "        !wget video.mp4 https://github.com/InoveAlumnos/transfer_learning_python/raw/main/imagenes/video.mp4"
      ],
      "execution_count": null,
      "outputs": []
    },
    {
      "cell_type": "markdown",
      "metadata": {
        "id": "CEdbrjRRqQF5"
      },
      "source": [
        "## COCO Dataset\n",
        "https://tech.amikelive.com/node-718/what-object-categories-labels-are-in-coco-dataset/"
      ]
    },
    {
      "cell_type": "markdown",
      "metadata": {
        "id": "ZkPcy-dEqN9C"
      },
      "source": [
        "## Ensayos"
      ]
    },
    {
      "cell_type": "code",
      "metadata": {
        "id": "ODVQGwgarmsi"
      },
      "source": [
        "# Importar las herramientas de Yolo a implementar\n",
        "from yolov3.utils import detect_image, detect_realtime, detect_video, Load_Yolo_model, detect_video_realtime_mp\n",
        "from yolov3.configs import *\n",
        "\n",
        "def detectar_imagen(image_path):\n",
        "    # Función dectectar que recibe una imagen, ubica la ruta de la imagen y la concatena con \"yolo_\"\n",
        "    out_path = \"yolo_\" + os.path.basename(image_path)\n",
        "\n",
        "    # Imprime cla ruta detectada del path y como queda despúes de concatenar.\n",
        "    print(\"input source:\", image_path)\n",
        "    print(\"output source:\", out_path)\n",
        "\n",
        "    # Se crea el objeto \"yolo\" a partir de la clase  Load_Yolo_model()\n",
        "    yolo = Load_Yolo_model()\n",
        "\n",
        "    # Se invoca la función detect_image de yolo\n",
        "    # Indicando como parámetros, el objeto creado, \n",
        "    # la ruta de la imagen concatenada \n",
        "    #  rectangle_colors=(255,0,0), color del rectángulo\n",
        "    new_image = detect_image(yolo, image_path, out_path, show=False, rectangle_colors=(255,0,0))\n",
        "\n",
        "    # Mostrar la imagen con el resultado de detección\n",
        "    cv2_imshow(new_image)"
      ],
      "execution_count": null,
      "outputs": []
    },
    {
      "cell_type": "code",
      "metadata": {
        "id": "VrBZnXxQqnm_"
      },
      "source": [
        "# Invocar la función pasandole la imagen a analizar.\n",
        "detectar_imagen(\"street.jpg\")"
      ],
      "execution_count": null,
      "outputs": []
    },
    {
      "cell_type": "code",
      "metadata": {
        "id": "I4Ogy_Tw4O-k"
      },
      "source": [
        "\n",
        "def detectar_video(video_path):\n",
        "    # Función dectectar que recibe un video, ubica la ruta de la imagen y la concatena con \"yolo_\"\n",
        "    out_path = \"yolo_\" + os.path.basename(video_path)\n",
        "\n",
        "    # Imprime cla ruta detectada del path y como queda despúes de concatenar.\n",
        "    print(\"input source:\", video_path)\n",
        "    print(\"output source:\", out_path)\n",
        "   \n",
        "    # Se crea el objeto \"yolo\" a partir de la clase  Load_Yolo_model()\n",
        "    yolo = Load_Yolo_model()\n",
        "    \n",
        "    # Se invoca la función detect_image de yolo\n",
        "    # Indicando como parámetros, el objeto creado, \n",
        "    # la ruta de la imagen concatenada \n",
        "    #  rectangle_colors=(255,0,0), color del rectángulo\n",
        "    new_image = detect_video(yolo, video_path, out_path, show=False, rectangle_colors=(255,0,0))"
      ],
      "execution_count": null,
      "outputs": []
    },
    {
      "cell_type": "code",
      "metadata": {
        "id": "r4xf45Mv4t7A"
      },
      "source": [
        "# Invocar la función pasandole el video a analizar.\n",
        "detectar_video(\"video.mp4\")"
      ],
      "execution_count": null,
      "outputs": []
    }
  ]
}