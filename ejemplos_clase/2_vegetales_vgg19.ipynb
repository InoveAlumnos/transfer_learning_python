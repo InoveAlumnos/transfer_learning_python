{
  "cells": [
    {
      "cell_type": "markdown",
      "metadata": {
        "id": "hFwa0fhoKqlG"
      },
      "source": [
        "<a href=\"https://www.inove.com.ar\"><img src=\"https://raw.githubusercontent.com/InoveAlumnos/dataset_analytics_python/master/images/PA%20Banner.png\" width=\"1000\" align=\"center\"></a>\n",
        "\n",
        "\n",
        "# Ejercicio de clasificación con redes neuronales convolucionales (CNN)\n",
        "\n",
        "Ejemplo de clasificación utilizando redes neuronales convolucionales para la clasificación de imagenes<br>\n",
        "\n",
        "v2.0"
      ]
    },
    {
      "cell_type": "markdown",
      "metadata": {
        "id": "oJM1rCXmLVSt"
      },
      "source": [
        "### **Objetivos:**\n",
        "* Estudiar el dataset de Vegetales.\n",
        "* Implementar Transfer Learning y Redes Convolucionales para la clasificación de imágenes de los Vegetales."
      ]
    },
    {
      "cell_type": "code",
      "execution_count": null,
      "metadata": {
        "id": "M4O4B39e83u3"
      },
      "outputs": [],
      "source": [
        "# Librerías a implementar\n",
        "import json \n",
        "import zipfile\n",
        "import os\n",
        "import pandas as pd\n",
        "from PIL import Image\n",
        "import random\n",
        "\n",
        "import matplotlib.image as mpimg\n",
        "from glob import glob\n",
        "import matplotlib.pyplot as plt\n",
        "import seaborn as sns\n",
        "import numpy as np"
      ]
    },
    {
      "cell_type": "code",
      "source": [
        "if os.access('./vegetales', os.F_OK) is False:\n",
        "    !curl -L -o 'vegetales.zip' 'https://drive.google.com/uc?id=1XEhAdQBXTgia2kKmHO3DeCDfkSLkSHS6&export=download&confirm=t'\n",
        "    !unzip -q vegetales.zip\n",
        "else:\n",
        "    print(\"La carpeta ya se encuentra descargada\")"
      ],
      "metadata": {
        "id": "MgVtx_GbOkYP"
      },
      "execution_count": null,
      "outputs": []
    },
    {
      "cell_type": "code",
      "execution_count": null,
      "metadata": {
        "id": "aOAqJAGZAVVj"
      },
      "outputs": [],
      "source": [
        "# Visualizar los directiorios.\n",
        "os.listdir(\"./vegetales\")"
      ]
    },
    {
      "cell_type": "code",
      "execution_count": null,
      "metadata": {
        "id": "uYb3krC9A4gS"
      },
      "outputs": [],
      "source": [
        "# /content/vegetales/test\n",
        "# /content/vegetales/train\n",
        "# /content/vegetales/validation"
      ]
    },
    {
      "cell_type": "code",
      "execution_count": null,
      "metadata": {
        "id": "VNkmocKrAzUe"
      },
      "outputs": [],
      "source": [
        "# Visualizar los tipos de vegetales\n",
        "train_dir = \"./vegetales/train\"\n",
        "validation_dir = \"./vegetales/validation\"\n",
        "os.listdir(train_dir)"
      ]
    },
    {
      "cell_type": "code",
      "execution_count": null,
      "metadata": {
        "id": "xwYDwWbEBavk"
      },
      "outputs": [],
      "source": [
        "vegetales = os.listdir(train_dir)\n",
        "print(\"Cantidad de tipos de vegetales:\", len(vegetales))"
      ]
    },
    {
      "cell_type": "code",
      "execution_count": null,
      "metadata": {
        "id": "edbJ-oduHudY"
      },
      "outputs": [],
      "source": [
        "vegetales"
      ]
    },
    {
      "cell_type": "code",
      "execution_count": null,
      "metadata": {
        "id": "_WNAe-WUETfo"
      },
      "outputs": [],
      "source": [
        "# Imagenes de la primer carpeta, que esta en la primer ubicación\n",
        "files = glob(train_dir + \"/\" + vegetales[0] + \"/**.jpg\")\n",
        "files[:10]"
      ]
    },
    {
      "cell_type": "code",
      "execution_count": null,
      "metadata": {
        "id": "vA2Zr_whCPq3"
      },
      "outputs": [],
      "source": [
        "# Visualizar las 10 primeras imagenes de un vegetal\n",
        "# glob(), encuentra todos los nombres de rutas que se asemejan \n",
        "# a un patrón especificado de acuerdo a las reglas que sigue la ruta.\n",
        "files = glob(train_dir + \"/\" + vegetales[0] + \"/**.jpg\")\n",
        "\n",
        "# plt alias de Matplotlib.\n",
        "# Método figure() crea el espacio para dibujar.\n",
        "# Con figsize=(16,9) se define el ancho y alto del dibujo\n",
        "fig = plt.figure(figsize=(16,9))\n",
        "\n",
        "# Bucle que itera 10 veces para mostrar las primeras 10 imágenes del dataset\n",
        "for i in range(12):\n",
        "\n",
        "    # ax gráfico que mostrará las imágenes en 2 filas y 5 columnas\n",
        "    # En cada iteración va ubicando la imagen en la siguiente posición (i+1)\n",
        "    ax = fig.add_subplot(3, 4, i+1)\n",
        "    # .axis('off') elimina el recuadro de cada imagen\n",
        "    ax.axis('off')\n",
        "    # Herramienta de Matplotlib para para leer imágenes\n",
        "    img = mpimg.imread(files[i])\n",
        "    # Muestra las imágenes de la variable data_X_train en el espacio del dibujo\n",
        "    plt.imshow(img)\n",
        "\n",
        "# Muestra la figura\n",
        "plt.show()"
      ]
    },
    {
      "cell_type": "code",
      "execution_count": null,
      "metadata": {
        "id": "t6EQf4ZAFc28"
      },
      "outputs": [],
      "source": [
        "# Visualizar la dimension de la primera imagen\n",
        "img = mpimg.imread(files[0])\n",
        "img.shape"
      ]
    },
    {
      "cell_type": "code",
      "execution_count": null,
      "metadata": {
        "id": "_1YvMoghF521"
      },
      "outputs": [],
      "source": [
        "# Visualizar como están representados los pixeles internos.\n",
        "print(img[85, 100:110, :])"
      ]
    },
    {
      "cell_type": "markdown",
      "metadata": {
        "id": "q0dSbpopGMe0"
      },
      "source": [
        "#### Conclusiones\n",
        "- Las imagenes tienen todos el mismo tamaño, 224x224, que es importante ya que el clasificador vgg19 recibe imágenes del tamaño indicado.\n",
        "- Las imagenes están representadas de 0 a 255, hay que normalizarlas"
      ]
    },
    {
      "cell_type": "markdown",
      "metadata": {
        "id": "ZArey6KROTbV"
      },
      "source": [
        "## Observar que tan balanceado está el dataset"
      ]
    },
    {
      "cell_type": "code",
      "execution_count": null,
      "metadata": {
        "id": "_QBWxnNhGwWK"
      },
      "outputs": [],
      "source": [
        "# Analizar cuantos vegetales hay de cada uno\n",
        "nombres_vegetales = []\n",
        "cantidad_vegetal = []\n",
        "\n",
        "# Bucle que itera la lista de vegetales\n",
        "for vegetal in vegetales:\n",
        "    \n",
        "    # Almacena la ruta completa de cada imagen \n",
        "    files = glob(train_dir + \"/\" + vegetal + \"/**.jpg\")\n",
        "    \n",
        "    # Por cada nombre de imagen separa por _\n",
        "    nombre_vegetal= vegetal.split(\"_\")[0]\n",
        "\n",
        "    # Almacena el nombre de cada vegetal en una lista\n",
        "    nombres_vegetales.append(nombre_vegetal)\n",
        "\n",
        "    # Almacena la cantidad de rutas que es igual a la cantidad de vegetales\n",
        "    cantidad_vegetal.append(len(files))\n",
        "\n",
        "# Graficar la cantidad de imágenes que tiene cada vegetal\n",
        "# plt alias de Matplotlib.\n",
        "# Método figure() crea el espacio para dibujar.\n",
        "# Con figsize=(16,9) se define el ancho y alto del dibujo\n",
        "fig = plt.figure(figsize=(16,9))\n",
        "\n",
        "# espacio ax para el gráfico a mostrar\n",
        "ax = fig.add_subplot()\n",
        "\n",
        "# Gráfico de barra (barplot)\n",
        "# sns, alias de Seaborn\n",
        "# ax=ax, los datos se representarán en horiizontal\n",
        "sns.barplot(x=nombres_vegetales, y=cantidad_vegetal, ax=ax)\n",
        "\n",
        "# Mostrar la imagen.\n",
        "plt.show()"
      ]
    },
    {
      "cell_type": "markdown",
      "metadata": {
        "id": "nQDBDqgFPzPu"
      },
      "source": [
        "El dataset está perfectamente balanceado."
      ]
    },
    {
      "cell_type": "markdown",
      "metadata": {
        "id": "CH5I7Ldy8_a8"
      },
      "source": [
        "# Procesar datos\n",
        "<img src=\"https://raw.githubusercontent.com/InoveAlumnos/dataset_analytics_python/master/images/Pipeline2.png\" width=\"1000\" align=\"middle\">"
      ]
    },
    {
      "cell_type": "code",
      "execution_count": null,
      "metadata": {
        "id": "LNArKWc38-pg"
      },
      "outputs": [],
      "source": [
        "# Se importa ImageDataGenerator del módulo de keras.preprocessing.image\n",
        "from keras.preprocessing.image import ImageDataGenerator\n",
        "\n",
        "# Crear un generador, indicando si deseamos realizar un escalado de la imagen\n",
        "train_datagen = ImageDataGenerator(rescale=1./255)\n",
        "validation_datagen = ImageDataGenerator(rescale=1./255)\n",
        "\n",
        "# El método .flow_from_directory, toma la ruta a un directorio y genera lotes de datos aumentados.\n",
        "# target_size, se indica la dimensión de la imagen que se desea.\n",
        "# batch_size, la cantidad que va a tomar para aplicar la operación de escalado.\n",
        "# class_mode, es categorical ya que son varios vegetales.\n",
        "train_generator = train_datagen.flow_from_directory(\n",
        "        directory=train_dir,\n",
        "        target_size=(224, 224),\n",
        "        batch_size=140,\n",
        "        class_mode=\"categorical\")\n",
        "\n",
        "# Mismo proceso para los datos de validación \n",
        "validation_generator = validation_datagen.flow_from_directory(\n",
        "        directory=validation_dir,\n",
        "        target_size=(224, 224),\n",
        "        batch_size=80,\n",
        "        class_mode=\"categorical\")\n",
        "\n",
        "# Con dict, arma un diccionario\n",
        "# con zip, es una función toma que iterables como argumentos y devuelve un iterador.\n",
        "# Es decir, se construye en diccionario indice:valor --> ubicacion:nombre_vegetal\n",
        "index_to_classes = dict(zip(train_generator.class_indices.values(), train_generator.class_indices.keys()))\n",
        "index_to_classes "
      ]
    },
    {
      "cell_type": "markdown",
      "metadata": {
        "id": "rgcOxcu5UUqZ"
      },
      "source": [
        "# Explorar datos\n",
        "<img src=\"https://raw.githubusercontent.com/InoveAlumnos/dataset_analytics_python/master/images/Pipeline3.png\" width=\"1000\" align=\"middle\">"
      ]
    },
    {
      "cell_type": "code",
      "execution_count": null,
      "metadata": {
        "id": "Al5AUemQUgXx"
      },
      "outputs": [],
      "source": [
        "# El generador \"train_generator\" se lo puede utilizar para acceder a los datos\n",
        "# de a cantidad batch de imagenes. En este caso el generador me retornará\n",
        "# la primera vez las primeras 140 imagenes\n",
        "# El generador devuelve las imagenes (X) y las clases(vegetales) a las que\n",
        "# pertenece (y)\n",
        "# X, y = train_generator.next()\n",
        "batch_imagenes, batch_clases = train_generator.next()"
      ]
    },
    {
      "cell_type": "code",
      "execution_count": null,
      "metadata": {
        "id": "BaQbbz08UnF-"
      },
      "outputs": [],
      "source": [
        "# Cantidad de imágenes, dimensión alto, dimensión ancho, canales de color\n",
        "batch_imagenes.shape"
      ]
    },
    {
      "cell_type": "code",
      "execution_count": null,
      "metadata": {
        "id": "DJ3TpH3xUsey"
      },
      "outputs": [],
      "source": [
        "# Cantidad de imagenes y categorías\n",
        "batch_clases.shape"
      ]
    },
    {
      "cell_type": "code",
      "execution_count": null,
      "metadata": {
        "id": "JN9SErLLVP2q"
      },
      "outputs": [],
      "source": [
        "# Observar las primeras 5 imagenes de ese batch\n",
        "# plt alias de Matplotlib.\n",
        "# Método figure() crea el espacio para dibujar.\n",
        "# Con figsize=(16,9) se define el ancho y alto del dibujofig = plt.figure(figsize=(16,9))\n",
        "# Observar las primeras 5 imagenes de ese batch\n",
        "fig = plt.figure(figsize=(16,9))\n",
        "\n",
        "# Itera 5 veces\n",
        "for i in range(10):\n",
        "\n",
        "    # ax, gráfico que mostrará las imágenes en 1 filas y 5 columnas\n",
        "    # En cada iteración va ubicando la imagen en la siguiente posición (i+1)\n",
        "    ax = fig.add_subplot(2, 5, i+1)\n",
        "\n",
        "    # Muestra la imagen\n",
        "    ax.imshow(batch_imagenes[i])\n",
        "\n",
        "    # Ubica por la posición de la imagen el nombre que le corresponde.\n",
        "    numero_clase = batch_clases[i].argmax()\n",
        "\n",
        "    # A cada imagen le agrega un titulo que sería el nombre del vegetal que le corresponde.\n",
        "    ax.set_title(index_to_classes[numero_clase])\n",
        "plt.show()"
      ]
    },
    {
      "cell_type": "markdown",
      "metadata": {
        "id": "37oRA7WDVtfW"
      },
      "source": [
        "__Importante__! Luego de usar un generador \"jugando\", ese batch de imagenes que sacamos ya no se encontrará disponible para ser utilizado en el entrenamiento, es recomendable volver a crear los generadores si se los consumen"
      ]
    },
    {
      "cell_type": "code",
      "execution_count": null,
      "metadata": {
        "id": "4AJKYkWJV2Q1"
      },
      "outputs": [],
      "source": [
        "# Crear un generador, indicando si deseamos realizar un escalado de la imagen\n",
        "train_datagen = ImageDataGenerator(rescale=1./255)\n",
        "\n",
        "\n",
        "# El método .flow_from_directory, toma la ruta a un directorio y genera lotes de datos aumentados.\n",
        "# target_size, se indica la dimensión de la imagen que se desea.\n",
        "# batch_size, la cantidad que va a tomar para aplicar la operación de escalado.\n",
        "# class_mode, es categorical ya que son varios vegetales.\n",
        "train_generator = train_datagen.flow_from_directory(\n",
        "        directory=train_dir,\n",
        "        target_size=(224,224),\n",
        "        batch_size=140,\n",
        "        class_mode=\"categorical\")\n",
        "\n",
        "# Con dict, arma un diccionario\n",
        "# con zip, es una función toma que iterables como argumentos y devuelve un iterador.\n",
        "# Es decir, se construye en diccionario indice:valor --> ubicacion:nombre_vegetal\n",
        "index_to_classes = dict(zip(train_generator.class_indices.values(), train_generator.class_indices.keys()))"
      ]
    },
    {
      "cell_type": "markdown",
      "metadata": {
        "id": "QDGq9EnAWKU4"
      },
      "source": [
        "# Entrenar modelo\n",
        "<img src=\"https://raw.githubusercontent.com/InoveAlumnos/dataset_analytics_python/master/images/Pipeline4.png\" width=\"1000\" align=\"middle\">"
      ]
    },
    {
      "cell_type": "markdown",
      "metadata": {
        "id": "1ryYNpBHWN1e"
      },
      "source": [
        "__NOTA:__ Los generadores ya se encargan de transformar la salida a oneHotEncoding"
      ]
    },
    {
      "cell_type": "code",
      "execution_count": null,
      "metadata": {
        "id": "hOJkmYGHWTF3"
      },
      "outputs": [],
      "source": [
        "# input shape (observado del análisis de datos)\n",
        "# Almacena las dimensiones y los canales de color, sería la entrada a la red\n",
        "in_shape = (224, 224, 3)\n",
        "print('Entrada', in_shape)\n",
        "\n",
        "# output shape (observado del análisis de datos)\n",
        "# 15 ya que representa categorías, los nombres de los vegetales con lo que se entrena la red\n",
        "out_shape = 15\n",
        "print('Salida:', out_shape)"
      ]
    },
    {
      "cell_type": "code",
      "execution_count": null,
      "metadata": {
        "id": "PFSEqhgTWxtg"
      },
      "outputs": [],
      "source": [
        "# Debemos definir cuantas imagenes se consumiran por epoca para entrenamiento \n",
        "# y validación (steps_per_epoch).\n",
        "# ya que estando el generador en el medio Keras no puede saberlo por\n",
        "# su cuenta\n",
        "epoch_train = len(train_generator)\n",
        "print(epoch_train)\n",
        "\n",
        "epoch_validation = len(validation_generator)\n",
        "print(epoch_validation )"
      ]
    },
    {
      "cell_type": "markdown",
      "metadata": {
        "id": "amYbNCHNck3y"
      },
      "source": [
        "\n",
        "VGG-19 es una red neuronal convolucional con 19 capas de profundidad. Puede cargar una versión preentrenada de la red entrenada en más de un millón de imágenes desde la base de datos [1] de ImageNet. La red preentrenada puede clasificar imágenes en 1000 categorías de objetos (por ejemplo, teclado, ratón, lápiz y animales). Como resultado, la red ha aprendido representaciones ricas en características para una amplia gama de imágenes. El tamaño de la entrada de la red debe ser el mismo que seleccionamos para las imágenes (en este caso 224x224)"
      ]
    },
    {
      "cell_type": "code",
      "execution_count": null,
      "metadata": {
        "id": "yTNigZWwaG6u"
      },
      "outputs": [],
      "source": [
        "# Fuente = https://keras.io/api/applications/#usage-examples-for-image-classification-models\n",
        "from tensorflow.keras.applications.vgg19 import VGG19, preprocess_input\n",
        "from tensorflow.keras.preprocessing import image\n",
        "from tensorflow.keras.models import Model\n",
        "\n",
        "modelo_vgg = VGG19(weights='imagenet',\n",
        "                   input_shape=in_shape,  \n",
        "                   include_top=False,     # No incluir las 3 capas completamente conectadas en la parte superior de la red.\n",
        "                   pooling=None, # Significa que la salida del modelo será la salida del tensor 4D del último bloque convolucional.\n",
        "                   )\n",
        "\n",
        "modelo_vgg.trainable=False\n",
        "\n",
        "# Estructura de la red\n",
        "modelo_vgg.summary()\n",
        "   "
      ]
    },
    {
      "cell_type": "code",
      "execution_count": null,
      "metadata": {
        "id": "la7Vmhotdqxc"
      },
      "outputs": [],
      "source": [
        "# Se importa Dense,  Dropout, Flatten de la librería keras.layers\n",
        "# Se importa Conv2D, MaxPooling2D  de la librería keras.layers.convolutional\n",
        "from keras.layers import Dense, Dropout, Flatten\n",
        "from keras.layers.convolutional import Conv2D, MaxPooling2D\n",
        "from keras.models import Sequential\n",
        "\n",
        "# Se crea el objeto model1 a partir de la clase Sequential()\n",
        "model = Sequential()\n",
        "\n",
        "# Incluir al modelo la red vgg_base traida de VGG16\n",
        "model.add(modelo_vgg)\n",
        "\n",
        "# Ahora agregaremos más pares de capas CONV + POOL a fin de reducir más la\n",
        "# dimensión de la imagen antes de llegar a la capa flatten\n",
        "# Otra estrategia es ir aumentando la cantidad de filtros a medida que crece\n",
        "# la profundidad de la red\n",
        "\n",
        "# Capa de comunicación entre la red convolucional y la red neuronal\n",
        "model.add(Flatten())\n",
        "\n",
        "# Red Neuronal que inicia con 128 neuronas y la función de activación \"relu\"\n",
        "model.add(Dense(units=32, activation='relu'))\n",
        "# Se agrega una capa de dropout para dormir parte de las neuronas.\n",
        "model.add(Dropout(rate=0.2))\n",
        "\n",
        "# Red Neuronal que inicia con 64 neuronas y la función de activación \"relu\"\n",
        "model.add(Dense(units=16, activation='relu'))\n",
        "model.add(Dropout(rate=0.2))\n",
        "\n",
        "# Capa de salida con la cantidad de vegetales y 'softmax' porque es multicategorical\n",
        "model.add(Dense(units=out_shape, activation='softmax'))\n",
        "\n",
        "# Configuración del modelo para el entrenamiento, implementando el método compile a partir del modelo creado.\n",
        "# Se necesita indicar los parámetros:\n",
        "# optimizer, nombre del optimizador (es el algoritmo que se encarga del descenso de gradiente estocástico)\n",
        "# Fuente: https://www.tensorflow.org/api_docs/python/tf/keras/optimizers/Adam\n",
        "# loss, se llama función de pérdida, representa las categorías conocidas de las predicción. Al ser 'categorical_crossentropy' \n",
        "#la predicción tiene una salida con varias opciones.\n",
        "# metrics, se define la métrica que evaluará el modelo durante el entrenamiento y las pruebas.\n",
        "model.compile(optimizer=\"Adam\",\n",
        "              loss='categorical_crossentropy',\n",
        "              metrics=['accuracy'])\n",
        "model.summary()"
      ]
    },
    {
      "cell_type": "code",
      "execution_count": null,
      "metadata": {
        "id": "KzgXLNuVeJ7s"
      },
      "outputs": [],
      "source": [
        "# Se entrena el modelo con el método fit\n",
        "# Necesita definir los valores para train_generator, la cantidad de épocas que seria la iteraciones de entrenamiento y\n",
        "# steps_per_epoch, cantidad de imágenes a consumir la red por época.\n",
        "# validation_steps, cantidad de imágenes para validación\n",
        "# validation_data, imagénes preprocesadas.\n",
        "history = model.fit(\n",
        "      train_generator,\n",
        "      steps_per_epoch=epoch_train,\n",
        "      validation_data=validation_generator,\n",
        "      validation_steps=epoch_validation,\n",
        "      epochs=2\n",
        "      )"
      ]
    },
    {
      "cell_type": "code",
      "execution_count": null,
      "metadata": {
        "id": "aPnuzSiees61"
      },
      "outputs": [],
      "source": [
        "# Variable epoch_count, que almacena en una lista la cantidad de épocas de train\n",
        "# history, es la variable que almacena las predicciones del modelo\n",
        "# y de ella, se puede acceder a información como su historial (history) del accuracy y val_accuracy\n",
        "epoch_count = range(1, len(history.history['accuracy']) + 1)\n",
        "\n",
        "# De Seaborn (sns) se accede al gráfico de línea para representar el 'accuracy' y val_accuracy\n",
        "sns.lineplot(x=epoch_count,  y=history.history['accuracy'], label='train')\n",
        "sns.lineplot(x=epoch_count,  y=history.history['val_accuracy'], label='val')\n",
        "plt.show()"
      ]
    },
    {
      "cell_type": "markdown",
      "source": [
        "__NOTA:__ Habría que entrenar por más épocas el modelo, pero por una cuestión de tiempo solo se realizan 2."
      ],
      "metadata": {
        "id": "E11SVh6zRKJp"
      }
    },
    {
      "cell_type": "code",
      "execution_count": null,
      "metadata": {
        "id": "-XbHE3o8gRz-"
      },
      "outputs": [],
      "source": [
        "# Crear el generador de test\n",
        "test_dir = \"./vegetales/test\"\n",
        "\n",
        "test_datagen = ImageDataGenerator(rescale=1./255)\n",
        "test_generator = test_datagen.flow_from_directory(\n",
        "        directory=test_dir,\n",
        "        target_size=(224, 224),\n",
        "        batch_size=3000,  # leemos todas las imagenes juntas de la carpeta test\n",
        "        class_mode=\"categorical\")"
      ]
    },
    {
      "cell_type": "code",
      "execution_count": null,
      "metadata": {
        "id": "AMCtP3z2gV25"
      },
      "outputs": [],
      "source": [
        "# Predecir los datos\n",
        "# Hay que primero leer las imagenes y sus lables del generador\n",
        "batch_imagenes, batch_clases = test_generator.next()\n",
        "\n",
        "# Predecir la salida del modelo\n",
        "y_hat_prob = model.predict(batch_imagenes)\n",
        "\n",
        "# Obtener el \"y\" verdadero --> Almacenar los resultados reales esperados\n",
        "y_test = np.argmax(batch_clases, axis=1)\n",
        "y_test"
      ]
    },
    {
      "cell_type": "code",
      "execution_count": null,
      "metadata": {
        "id": "2_3Ru35HgeP4"
      },
      "outputs": [],
      "source": [
        "# Se transforman las probabilidades en el id del vegetal (de 0 a 14)\n",
        "y_hat = np.argmax(y_hat_prob,axis=1)\n",
        "y_hat"
      ]
    },
    {
      "cell_type": "markdown",
      "metadata": {
        "id": "EIK0ywK0fz5v"
      },
      "source": [
        "# Validar modelo\n",
        "<img src=\"https://raw.githubusercontent.com/InoveAlumnos/dataset_analytics_python/master/images/Pipeline5.png\" width=\"1000\" align=\"middle\">"
      ]
    },
    {
      "cell_type": "code",
      "execution_count": null,
      "metadata": {
        "id": "Wjr4BTRqfmD2"
      },
      "outputs": [],
      "source": [
        "# Calcular la exactitud (accuracy)\n",
        "from sklearn.metrics import accuracy_score\n",
        "accuracy_score(y_test, y_hat)"
      ]
    },
    {
      "cell_type": "code",
      "execution_count": null,
      "metadata": {
        "id": "18_ORhWlgIwZ"
      },
      "outputs": [],
      "source": [
        "# Se utiliza la matriz de confusión para evaluar la precisión de una clasificación.\n",
        "from sklearn.metrics import confusion_matrix, ConfusionMatrixDisplay\n",
        "\n",
        "# Necesita dos variables que contengan los valores a comparar\n",
        "cm = confusion_matrix(y_test, y_hat)\n",
        "\n",
        "# Código para realizar la representación gráfica con los resultados\n",
        "# Se crea la varible cmd, que almacena visualization de la Confusion Matrix \n",
        "# Necesita la variable cm que contiene los resultados de la comparación entre los valores reales y predicción\n",
        "# display_labels, se especifica las etiquetas de las categorias que se evalúan.\n",
        "cmd = ConfusionMatrixDisplay(cm)\n",
        "\n",
        "# Con cmd.plot se especifica el mapa de colores reconocido por matplotlib.\n",
        "cmd.plot(cmap=plt.cm.Blues)\n",
        "\n",
        "# Mostrar la figura\n",
        "plt.show()                                                                                "
      ]
    },
    {
      "cell_type": "markdown",
      "source": [
        "# Utilizar modelo\n",
        "<img src=\"https://raw.githubusercontent.com/InoveAlumnos/dataset_analytics_python/master/images/Pipeline6.png\" width=\"1000\" align=\"middle\">"
      ],
      "metadata": {
        "id": "jI7UqB_-P-4Z"
      }
    },
    {
      "cell_type": "code",
      "source": [
        "# plt alias de Matplotlib.\n",
        "# Método figure() crea el espacio para dibujar.\n",
        "# Con figsize=(16,9) se define el ancho y alto del dibujofig = plt.figure(figsize=(16,9))\n",
        "# Observar las primeras 10 imagenes del batch de test\n",
        "fig = plt.figure(figsize=(16,9))\n",
        "\n",
        "# Itera 10 veces\n",
        "for i in range(10):\n",
        "\n",
        "    # ax, gráfico que mostrará las imágenes en 2 filas y 5 columnas\n",
        "    # En cada iteración va ubicando la imagen en la siguiente posición (i+1)\n",
        "    ax = fig.add_subplot(2, 5, i+1)\n",
        "\n",
        "    # Muestra la imagen\n",
        "    ax.imshow(batch_imagenes[i])\n",
        "\n",
        "    # Ubica por la posición de la imagen el nombre que le corresponde.\n",
        "    pred_numero_clase = y_hat[i]  # número de clase (vegetal) que se predijo\n",
        "    real_numero_clase = y_test[i]  # número de clase (vegetal) esperado o real\n",
        "\n",
        "    # A cada imagen le agrega un titulo que sería el nombre del personaje que le corresponde.\n",
        "    ax.set_title(\n",
        "        f\"Pred: {index_to_classes[pred_numero_clase]}\\nReal: {index_to_classes[real_numero_clase]}\"\n",
        "        )\n",
        "\n",
        "# Muestra la imagen.\n",
        "plt.show()"
      ],
      "metadata": {
        "id": "xhoj-rMJP_tO"
      },
      "execution_count": null,
      "outputs": []
    },
    {
      "cell_type": "markdown",
      "source": [
        "# Conclusión\n",
        "<img src=\"https://raw.githubusercontent.com/InoveAlumnos/dataset_analytics_python/master/images/Pipeline7.png\" width=\"1000\" align=\"middle\">"
      ],
      "metadata": {
        "id": "201_PGHJSqdx"
      }
    },
    {
      "cell_type": "markdown",
      "source": [
        "¡Se puede observar que con solo dos iteraciones el modelo aprendió bastante! Esto se debe a utilizar técnicas de transfer learning que acelera el entrenamiento de los modelos."
      ],
      "metadata": {
        "id": "A0wwmfwrSrdN"
      }
    }
  ],
  "metadata": {
    "accelerator": "GPU",
    "colab": {
      "provenance": []
    },
    "gpuClass": "standard",
    "kernelspec": {
      "display_name": "Python 3",
      "language": "python",
      "name": "python3"
    },
    "language_info": {
      "codemirror_mode": {
        "name": "ipython",
        "version": 3
      },
      "file_extension": ".py",
      "mimetype": "text/x-python",
      "name": "python",
      "nbconvert_exporter": "python",
      "pygments_lexer": "ipython3",
      "version": "3.8.10"
    }
  },
  "nbformat": 4,
  "nbformat_minor": 0
}