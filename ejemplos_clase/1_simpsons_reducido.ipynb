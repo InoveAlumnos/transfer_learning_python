{
 "cells": [
  {
   "cell_type": "markdown",
   "metadata": {
    "id": "67RBrvkUviuj"
   },
   "source": [
    "<a href=\"https://www.inove.com.ar\"><img src=\"https://raw.githubusercontent.com/InoveAlumnos/dataset_analytics_python/master/images/PA%20Banner.png\" width=\"1000\" align=\"center\"></a>\n",
    "\n",
    "\n",
    "# Ejercicio de clasificación con redes neuronales convolucionales (CNN)\n",
    "\n",
    "Ejemplo de clasificación utilizando redes neuronales convolucionales para la clasificación de imagenes<br>\n",
    "\n",
    "v1.1"
   ]
  },
  {
   "cell_type": "code",
   "execution_count": null,
   "metadata": {
    "id": "y2sSeyEovSw-"
   },
   "outputs": [],
   "source": [
    "import os\n",
    "import platform\n",
    "\n",
    "import numpy as np\n",
    "import matplotlib.pyplot as plt\n",
    "import seaborn as sns\n",
    "import pandas as pd\n",
    "\n",
    "import keras\n",
    "from keras.models import Sequential\n",
    "from keras.utils import to_categorical\n",
    "\n",
    "from glob import glob\n",
    "import matplotlib.image as mpimg"
   ]
  },
  {
   "cell_type": "markdown",
   "metadata": {
    "id": "7Szo7P_3v00C"
   },
   "source": [
    "# Recolectar datos\n",
    "<img src=\"https://raw.githubusercontent.com/InoveAlumnos/dataset_analytics_python/master/images/Pipeline1.png\" width=\"1000\" align=\"middle\">"
   ]
  },
  {
   "cell_type": "markdown",
   "metadata": {
    "id": "BbNSgxdfw0ix"
   },
   "source": [
    "### `Simpsons dataset`:\n",
    "El dataset **`Simpsons`** contiene 550Mbytes de imagenes a color de los personajes de los Simpsons (42 personajes). Cada imagen es de tiene al rededor de 500x450 píxeles a color (3 canales).<br> [Dataset source](https://www.kaggle.com/paultimothymooney/zipfiles)"
   ]
  },
  {
   "cell_type": "code",
   "execution_count": null,
   "metadata": {
    "colab": {
     "base_uri": "https://localhost:8080/"
    },
    "executionInfo": {
     "elapsed": 7709,
     "status": "ok",
     "timestamp": 1607271546072,
     "user": {
      "displayName": "inove",
      "photoUrl": "https://lh3.googleusercontent.com/a-/AOh14GhXN9lpkKFLA5gp8tW9cD3CZ1yGa9DUy9HZOgZm=s64",
      "userId": "03494171924251581304"
     },
     "user_tz": 180
    },
    "id": "bDz09zCY6-Gn",
    "outputId": "a296b9e6-b749-4e65-f392-986cfb5efaf0"
   },
   "outputs": [],
   "source": [
    "# Descargar el dataset\n",
    "import gdown\n",
    "if os.access('simpsons_dataset_reducido', os.F_OK) is False:\n",
    "    if os.access('simpsons_dataset_reducido.zip', os.F_OK) is False:\n",
    "        url = 'https://drive.google.com/uc?id=1LYTxnd25-QwMIZ5bP3ErGzSHRmuGDXmc'\n",
    "        output = 'simpsons_dataset_reducido.zip'\n",
    "        gdown.download(url, output, quiet=False)\n",
    "    !unzip -q simpsons_dataset_reducido.zip\n",
    "else:\n",
    "    print(\"El archivo ya se encuentra descargado\")"
   ]
  },
  {
   "cell_type": "code",
   "execution_count": null,
   "metadata": {
    "colab": {
     "base_uri": "https://localhost:8080/"
    },
    "executionInfo": {
     "elapsed": 7699,
     "status": "ok",
     "timestamp": 1607271546073,
     "user": {
      "displayName": "inove",
      "photoUrl": "https://lh3.googleusercontent.com/a-/AOh14GhXN9lpkKFLA5gp8tW9cD3CZ1yGa9DUy9HZOgZm=s64",
      "userId": "03494171924251581304"
     },
     "user_tz": 180
    },
    "id": "39D74GHn9hi1",
    "outputId": "b4108eca-081b-4b43-e240-28bda53f1e81"
   },
   "outputs": [],
   "source": [
    "# Visualizar los directiorios o tipos de personas\n",
    "os.listdir(\"./simpsons_dataset_reducido\")"
   ]
  },
  {
   "cell_type": "code",
   "execution_count": null,
   "metadata": {
    "colab": {
     "base_uri": "https://localhost:8080/"
    },
    "executionInfo": {
     "elapsed": 7689,
     "status": "ok",
     "timestamp": 1607271546074,
     "user": {
      "displayName": "inove",
      "photoUrl": "https://lh3.googleusercontent.com/a-/AOh14GhXN9lpkKFLA5gp8tW9cD3CZ1yGa9DUy9HZOgZm=s64",
      "userId": "03494171924251581304"
     },
     "user_tz": 180
    },
    "id": "a_txp_MlkjN1",
    "outputId": "bd3df223-e30a-417b-9411-b1960b380bab"
   },
   "outputs": [],
   "source": [
    " # Visualizar los tipos de personajes\n",
    " train_dir = \"./simpsons_dataset_reducido/train\"\n",
    " validation_dir = \"./simpsons_dataset_reducido/validation\"\n",
    " os.listdir(train_dir)"
   ]
  },
  {
   "cell_type": "code",
   "execution_count": null,
   "metadata": {
    "colab": {
     "base_uri": "https://localhost:8080/"
    },
    "executionInfo": {
     "elapsed": 7677,
     "status": "ok",
     "timestamp": 1607271546075,
     "user": {
      "displayName": "inove",
      "photoUrl": "https://lh3.googleusercontent.com/a-/AOh14GhXN9lpkKFLA5gp8tW9cD3CZ1yGa9DUy9HZOgZm=s64",
      "userId": "03494171924251581304"
     },
     "user_tz": 180
    },
    "id": "ywRZdgPa97sk",
    "outputId": "4615ff1c-8d46-4766-fea3-cf278c2888b2"
   },
   "outputs": [],
   "source": [
    "personajes = os.listdir(train_dir)\n",
    "print(\"Cantidad de tipos de personaejs:\", len(personajes))"
   ]
  },
  {
   "cell_type": "code",
   "execution_count": null,
   "metadata": {
    "colab": {
     "base_uri": "https://localhost:8080/",
     "height": 520
    },
    "executionInfo": {
     "elapsed": 10635,
     "status": "ok",
     "timestamp": 1607271549047,
     "user": {
      "displayName": "inove",
      "photoUrl": "https://lh3.googleusercontent.com/a-/AOh14GhXN9lpkKFLA5gp8tW9cD3CZ1yGa9DUy9HZOgZm=s64",
      "userId": "03494171924251581304"
     },
     "user_tz": 180
    },
    "id": "rGbCJanFR8oL",
    "outputId": "cc3362a9-f09f-4fca-f522-7aeda90ddc87"
   },
   "outputs": [],
   "source": [
    "# Visualizar las 10 primeras imagenes de un personaje\n",
    "files = glob(train_dir + \"/\" + personajes[0] + \"/**.jpg\")\n",
    "\n",
    "fig = plt.figure(figsize=(16,9))\n",
    "for i in range(10):\n",
    "    ax = fig.add_subplot(2, 5, i+1)\n",
    "    ax.axis('off')\n",
    "    img = mpimg.imread(files[i])\n",
    "    plt.imshow(img)\n",
    "plt.show()"
   ]
  },
  {
   "cell_type": "code",
   "execution_count": null,
   "metadata": {
    "colab": {
     "base_uri": "https://localhost:8080/"
    },
    "executionInfo": {
     "elapsed": 10623,
     "status": "ok",
     "timestamp": 1607271549050,
     "user": {
      "displayName": "inove",
      "photoUrl": "https://lh3.googleusercontent.com/a-/AOh14GhXN9lpkKFLA5gp8tW9cD3CZ1yGa9DUy9HZOgZm=s64",
      "userId": "03494171924251581304"
     },
     "user_tz": 180
    },
    "id": "fYGanqnC_Ppw",
    "outputId": "fae29cb9-1628-4c61-ef15-e5e0319b1691"
   },
   "outputs": [],
   "source": [
    "# Visualizar la dimension de la primera imagen\n",
    "img = mpimg.imread(files[0])\n",
    "img.shape"
   ]
  },
  {
   "cell_type": "code",
   "execution_count": null,
   "metadata": {
    "colab": {
     "base_uri": "https://localhost:8080/"
    },
    "executionInfo": {
     "elapsed": 10612,
     "status": "ok",
     "timestamp": 1607271549051,
     "user": {
      "displayName": "inove",
      "photoUrl": "https://lh3.googleusercontent.com/a-/AOh14GhXN9lpkKFLA5gp8tW9cD3CZ1yGa9DUy9HZOgZm=s64",
      "userId": "03494171924251581304"
     },
     "user_tz": 180
    },
    "id": "syeZ_UKH_Wsm",
    "outputId": "25cb86eb-8182-48e6-db9e-6e02bd7145e6"
   },
   "outputs": [],
   "source": [
    "# Visualizar como están representados los pixeles\n",
    "print(img[85, 100:110, :])"
   ]
  },
  {
   "cell_type": "markdown",
   "metadata": {
    "id": "xF62E6R5_lDh"
   },
   "source": [
    "#### Conclusiones\n",
    "- Las imagenes tienen tamaño variable, utilizaremos un tamaño reducido para que todas las imagenes sean iguales (se elije 150x150)\n",
    "- Las imagenes están representadas de 0 a 255, hay que normalizarlas"
   ]
  },
  {
   "cell_type": "code",
   "execution_count": null,
   "metadata": {
    "colab": {
     "base_uri": "https://localhost:8080/",
     "height": 554
    },
    "executionInfo": {
     "elapsed": 12661,
     "status": "ok",
     "timestamp": 1607271551115,
     "user": {
      "displayName": "inove",
      "photoUrl": "https://lh3.googleusercontent.com/a-/AOh14GhXN9lpkKFLA5gp8tW9cD3CZ1yGa9DUy9HZOgZm=s64",
      "userId": "03494171924251581304"
     },
     "user_tz": 180
    },
    "id": "CuZi82nO_4wq",
    "outputId": "9ca1692c-44ad-4093-9c57-1a0a9365df7e"
   },
   "outputs": [],
   "source": [
    "# Analizar cuantos personajes hay de cada uno\n",
    "nombre_personajes = []\n",
    "cantidad_personajes = []\n",
    "for personaje in personajes:\n",
    "    nombre_personaje = personaje.split(\"_\")[0]\n",
    "    files = glob(train_dir + \"/\" + personaje + \"/**.jpg\")\n",
    "    nombre_personajes.append(nombre_personaje)\n",
    "    cantidad_personajes.append(len(files))\n",
    "\n",
    "print(\"Cantidad de\", nombre_personajes[0], \":\", cantidad_personajes[0])\n",
    "fig = plt.figure(figsize=(16,9))\n",
    "ax = fig.add_subplot()\n",
    "sns.barplot(x=nombre_personajes, y=cantidad_personajes, ax=ax)\n",
    "plt.show()"
   ]
  },
  {
   "cell_type": "markdown",
   "metadata": {
    "id": "OnSk4BbBBR_t"
   },
   "source": [
    "Se puede ver que el dataset está bastante balanceado"
   ]
  },
  {
   "cell_type": "code",
   "execution_count": null,
   "metadata": {
    "colab": {
     "base_uri": "https://localhost:8080/"
    },
    "executionInfo": {
     "elapsed": 12649,
     "status": "ok",
     "timestamp": 1607271551117,
     "user": {
      "displayName": "inove",
      "photoUrl": "https://lh3.googleusercontent.com/a-/AOh14GhXN9lpkKFLA5gp8tW9cD3CZ1yGa9DUy9HZOgZm=s64",
      "userId": "03494171924251581304"
     },
     "user_tz": 180
    },
    "id": "4_NjEA__fLBk",
    "outputId": "ebd39279-3a77-4e7a-c65a-beb6dbcb4319"
   },
   "outputs": [],
   "source": [
    "# Descargar datos de test\n",
    "if os.access('simpsons_test', os.F_OK) is False:\n",
    "    if os.access('simpsons_test.zip', os.F_OK) is False:\n",
    "        if platform.system() == 'Windows':\n",
    "            !curl https://github.com/InoveAlumnos/dataset_analytics_python/raw/master/simpsons_test.zip > simpsons_test.zip\n",
    "        else:\n",
    "            !wget simpsons_test.zip https://github.com/InoveAlumnos/dataset_analytics_python/raw/master/simpsons_test.zip\n",
    "    !unzip -q simpsons_test.zip\n",
    "else:\n",
    "    print(\"El archivo ya se encuentra descargado\")"
   ]
  },
  {
   "cell_type": "markdown",
   "metadata": {
    "id": "NHHsGe1Qypde"
   },
   "source": [
    "# Procesar datos\n",
    "<img src=\"https://raw.githubusercontent.com/InoveAlumnos/dataset_analytics_python/master/images/Pipeline2.png\" width=\"1000\" align=\"middle\">"
   ]
  },
  {
   "cell_type": "code",
   "execution_count": null,
   "metadata": {
    "colab": {
     "base_uri": "https://localhost:8080/"
    },
    "executionInfo": {
     "elapsed": 12639,
     "status": "ok",
     "timestamp": 1607271551118,
     "user": {
      "displayName": "inove",
      "photoUrl": "https://lh3.googleusercontent.com/a-/AOh14GhXN9lpkKFLA5gp8tW9cD3CZ1yGa9DUy9HZOgZm=s64",
      "userId": "03494171924251581304"
     },
     "user_tz": 180
    },
    "id": "uvzaKBMbyoiy",
    "outputId": "99aed354-9ab4-432d-f203-ff8a2d5c3162"
   },
   "outputs": [],
   "source": [
    "from keras.preprocessing.image import ImageDataGenerator\n",
    "\n",
    "# Crear un generador, indicando si deseamos realizar un escalado de la imagen\n",
    "train_datagen = ImageDataGenerator(rescale=1./255)\n",
    "validation_datagen = ImageDataGenerator(rescale=1./255)\n",
    "\n",
    "train_generator = train_datagen.flow_from_directory(\n",
    "        directory=train_dir,\n",
    "        target_size=(150, 150),\n",
    "        batch_size=20,\n",
    "        class_mode=\"categorical\")\n",
    "\n",
    "validation_generator = validation_datagen.flow_from_directory(\n",
    "        directory=validation_dir,\n",
    "        target_size=(150, 150),\n",
    "        batch_size=20,\n",
    "        class_mode=\"categorical\")\n",
    "\n",
    "index_to_classes = dict(zip(train_generator.class_indices.values(), train_generator.class_indices.keys()))\n"
   ]
  },
  {
   "cell_type": "markdown",
   "metadata": {
    "id": "0BnzYdlRzBxz"
   },
   "source": [
    "# Explorar datos\n",
    "<img src=\"https://raw.githubusercontent.com/InoveAlumnos/dataset_analytics_python/master/images/Pipeline3.png\" width=\"1000\" align=\"middle\">"
   ]
  },
  {
   "cell_type": "code",
   "execution_count": null,
   "metadata": {
    "id": "vV05awstE6RX"
   },
   "outputs": [],
   "source": [
    "# El generador \"train_generator\" se lo puede utilizar para acceder a los datos\n",
    "# de a cantidad batch de imagenes. En este caso el generador me retornará\n",
    "# la primera vez las primeras 20 imagenes\n",
    "# El generador devuelve las imagenes (X) y las clases(personaes) a las que\n",
    "# pertenece (y)\n",
    "# X, y = train_generator.next()\n",
    "batch_imagenes, batch_clases = train_generator.next()"
   ]
  },
  {
   "cell_type": "code",
   "execution_count": null,
   "metadata": {
    "colab": {
     "base_uri": "https://localhost:8080/"
    },
    "executionInfo": {
     "elapsed": 12627,
     "status": "ok",
     "timestamp": 1607271551122,
     "user": {
      "displayName": "inove",
      "photoUrl": "https://lh3.googleusercontent.com/a-/AOh14GhXN9lpkKFLA5gp8tW9cD3CZ1yGa9DUy9HZOgZm=s64",
      "userId": "03494171924251581304"
     },
     "user_tz": 180
    },
    "id": "H9jbktbPF7u3",
    "outputId": "4d875a9c-ea41-4097-8405-368ecf8e5a40"
   },
   "outputs": [],
   "source": [
    "batch_imagenes.shape"
   ]
  },
  {
   "cell_type": "code",
   "execution_count": null,
   "metadata": {
    "colab": {
     "base_uri": "https://localhost:8080/"
    },
    "executionInfo": {
     "elapsed": 12615,
     "status": "ok",
     "timestamp": 1607271551123,
     "user": {
      "displayName": "inove",
      "photoUrl": "https://lh3.googleusercontent.com/a-/AOh14GhXN9lpkKFLA5gp8tW9cD3CZ1yGa9DUy9HZOgZm=s64",
      "userId": "03494171924251581304"
     },
     "user_tz": 180
    },
    "id": "KmdCnAQ2Kd7x",
    "outputId": "4068ddc8-f7a0-4182-8fc4-5139c9b6df85"
   },
   "outputs": [],
   "source": [
    "batch_clases.shape"
   ]
  },
  {
   "cell_type": "code",
   "execution_count": null,
   "metadata": {
    "colab": {
     "base_uri": "https://localhost:8080/"
    },
    "executionInfo": {
     "elapsed": 12605,
     "status": "ok",
     "timestamp": 1607271551124,
     "user": {
      "displayName": "inove",
      "photoUrl": "https://lh3.googleusercontent.com/a-/AOh14GhXN9lpkKFLA5gp8tW9cD3CZ1yGa9DUy9HZOgZm=s64",
      "userId": "03494171924251581304"
     },
     "user_tz": 180
    },
    "id": "vGCIcOPSGSk1",
    "outputId": "4dd350e4-daf5-413c-f5f1-856e3617040f"
   },
   "outputs": [],
   "source": [
    "print(\"Cantidad de imagenes en el batch:\", batch_imagenes.shape[0])\n",
    "print(\"Dimensión de la imagen:\", batch_imagenes.shape[1:])"
   ]
  },
  {
   "cell_type": "code",
   "execution_count": null,
   "metadata": {
    "colab": {
     "base_uri": "https://localhost:8080/"
    },
    "executionInfo": {
     "elapsed": 12592,
     "status": "ok",
     "timestamp": 1607271551125,
     "user": {
      "displayName": "inove",
      "photoUrl": "https://lh3.googleusercontent.com/a-/AOh14GhXN9lpkKFLA5gp8tW9cD3CZ1yGa9DUy9HZOgZm=s64",
      "userId": "03494171924251581304"
     },
     "user_tz": 180
    },
    "id": "u_jnc_dqKgCt",
    "outputId": "0b511ca7-b645-40cf-a43c-47f1a1af824a"
   },
   "outputs": [],
   "source": [
    "print(\"Cantidad de clases/personajes:\", batch_clases.shape[1])"
   ]
  },
  {
   "cell_type": "code",
   "execution_count": null,
   "metadata": {
    "colab": {
     "base_uri": "https://localhost:8080/",
     "height": 218
    },
    "executionInfo": {
     "elapsed": 12576,
     "status": "ok",
     "timestamp": 1607271551126,
     "user": {
      "displayName": "inove",
      "photoUrl": "https://lh3.googleusercontent.com/a-/AOh14GhXN9lpkKFLA5gp8tW9cD3CZ1yGa9DUy9HZOgZm=s64",
      "userId": "03494171924251581304"
     },
     "user_tz": 180
    },
    "id": "dUbEzgZsGfDB",
    "outputId": "1e23aa39-6d19-4628-b25c-78072bc314b3"
   },
   "outputs": [],
   "source": [
    "# Observar las primeras 5 imagenes de ese batch\n",
    "fig = plt.figure(figsize=(16,9))\n",
    "for i in range(5):\n",
    "    ax = fig.add_subplot(1, 5, i+1)\n",
    "    ax.imshow(batch_imagenes[i])\n",
    "    numero_clase = batch_clases[i].argmax()\n",
    "    ax.set_title(index_to_classes[numero_clase])\n",
    "plt.show()"
   ]
  },
  {
   "cell_type": "markdown",
   "metadata": {
    "id": "AmZRSSv1JPMz"
   },
   "source": [
    "__Importante__! Luego de usar un generador \"jugando\", ese batch de imagenes que sacamos ya no se encontrará disponible para ser utilizado en el entrenamiento, es recomendable volver a crear los generadores si se los consumen"
   ]
  },
  {
   "cell_type": "code",
   "execution_count": null,
   "metadata": {
    "colab": {
     "base_uri": "https://localhost:8080/"
    },
    "executionInfo": {
     "elapsed": 12563,
     "status": "ok",
     "timestamp": 1607271551126,
     "user": {
      "displayName": "inove",
      "photoUrl": "https://lh3.googleusercontent.com/a-/AOh14GhXN9lpkKFLA5gp8tW9cD3CZ1yGa9DUy9HZOgZm=s64",
      "userId": "03494171924251581304"
     },
     "user_tz": 180
    },
    "id": "wt_1BC0cKEcz",
    "outputId": "515114b6-aebe-4a85-98fc-9e91cdb35436"
   },
   "outputs": [],
   "source": [
    "# Crear un generador, indicando si deseamos realizar un escalado de la imagen\n",
    "train_datagen = ImageDataGenerator(rescale=1./255)\n",
    "\n",
    "train_generator = train_datagen.flow_from_directory(\n",
    "        directory=train_dir,\n",
    "        target_size=(150, 150),\n",
    "        batch_size=20,\n",
    "        class_mode=\"categorical\")\n",
    "\n",
    "index_to_classes = dict(zip(train_generator.class_indices.values(), train_generator.class_indices.keys()))"
   ]
  },
  {
   "cell_type": "markdown",
   "metadata": {
    "id": "7z_SuZlj3gbQ"
   },
   "source": [
    "# Entrenar modelo\n",
    "<img src=\"https://raw.githubusercontent.com/InoveAlumnos/dataset_analytics_python/master/images/Pipeline4.png\" width=\"1000\" align=\"middle\">"
   ]
  },
  {
   "cell_type": "code",
   "execution_count": null,
   "metadata": {
    "id": "3vdIz9_r-sMe"
   },
   "outputs": [],
   "source": [
    "# Los generadores ya que encargan de transformar la salida a oneHotEncoding"
   ]
  },
  {
   "cell_type": "code",
   "execution_count": null,
   "metadata": {
    "colab": {
     "base_uri": "https://localhost:8080/"
    },
    "executionInfo": {
     "elapsed": 12550,
     "status": "ok",
     "timestamp": 1607271551129,
     "user": {
      "displayName": "inove",
      "photoUrl": "https://lh3.googleusercontent.com/a-/AOh14GhXN9lpkKFLA5gp8tW9cD3CZ1yGa9DUy9HZOgZm=s64",
      "userId": "03494171924251581304"
     },
     "user_tz": 180
    },
    "id": "5Wb3oMvn-mIF",
    "outputId": "2d8b9451-87da-431c-da5d-1892b03c39d2"
   },
   "outputs": [],
   "source": [
    "# input shape (observado del análisis de datos)\n",
    "in_shape = (150, 150, 3)\n",
    "in_shape"
   ]
  },
  {
   "cell_type": "code",
   "execution_count": null,
   "metadata": {
    "colab": {
     "base_uri": "https://localhost:8080/"
    },
    "executionInfo": {
     "elapsed": 12541,
     "status": "ok",
     "timestamp": 1607271551131,
     "user": {
      "displayName": "inove",
      "photoUrl": "https://lh3.googleusercontent.com/a-/AOh14GhXN9lpkKFLA5gp8tW9cD3CZ1yGa9DUy9HZOgZm=s64",
      "userId": "03494171924251581304"
     },
     "user_tz": 180
    },
    "id": "wpYcXh1g_N3Q",
    "outputId": "ab0301e2-7445-40b5-b602-f7493521fb93"
   },
   "outputs": [],
   "source": [
    "# output shape (observado del análisis de datos)\n",
    "out_shape = 42\n",
    "out_shape"
   ]
  },
  {
   "cell_type": "code",
   "execution_count": null,
   "metadata": {
    "colab": {
     "base_uri": "https://localhost:8080/"
    },
    "executionInfo": {
     "elapsed": 12530,
     "status": "ok",
     "timestamp": 1607271551132,
     "user": {
      "displayName": "inove",
      "photoUrl": "https://lh3.googleusercontent.com/a-/AOh14GhXN9lpkKFLA5gp8tW9cD3CZ1yGa9DUy9HZOgZm=s64",
      "userId": "03494171924251581304"
     },
     "user_tz": 180
    },
    "id": "pQ8tQk2DMgBd",
    "outputId": "29a678d3-05d6-4f29-f6a6-aa6e372ce6cf"
   },
   "outputs": [],
   "source": [
    "# Debemos definir cuantas imagenes se consumiran por epoca (steps_per_epoch)\n",
    "# ya que estando el generador en el medio Keras no puede saberlo por\n",
    "# su cuenta\n",
    "steps_per_epoch_train = len(train_generator)\n",
    "steps_per_epoch_train"
   ]
  },
  {
   "cell_type": "code",
   "execution_count": null,
   "metadata": {
    "colab": {
     "base_uri": "https://localhost:8080/"
    },
    "executionInfo": {
     "elapsed": 12520,
     "status": "ok",
     "timestamp": 1607271551133,
     "user": {
      "displayName": "inove",
      "photoUrl": "https://lh3.googleusercontent.com/a-/AOh14GhXN9lpkKFLA5gp8tW9cD3CZ1yGa9DUy9HZOgZm=s64",
      "userId": "03494171924251581304"
     },
     "user_tz": 180
    },
    "id": "h-ThxJzgmEmj",
    "outputId": "0ff7c0eb-1107-4358-8753-28b1f7c54fb3"
   },
   "outputs": [],
   "source": [
    "steps_per_epoch_validation = len(validation_generator)\n",
    "steps_per_epoch_validation"
   ]
  },
  {
   "cell_type": "code",
   "execution_count": null,
   "metadata": {
    "colab": {
     "base_uri": "https://localhost:8080/"
    },
    "executionInfo": {
     "elapsed": 16958,
     "status": "ok",
     "timestamp": 1607271555585,
     "user": {
      "displayName": "inove",
      "photoUrl": "https://lh3.googleusercontent.com/a-/AOh14GhXN9lpkKFLA5gp8tW9cD3CZ1yGa9DUy9HZOgZm=s64",
      "userId": "03494171924251581304"
     },
     "user_tz": 180
    },
    "id": "fu1u9JhXq9Dy",
    "outputId": "0c6928dc-1a9c-4fe2-8b8b-2d83fad49383"
   },
   "outputs": [],
   "source": [
    "from keras.layers import Dense, Dropout, Flatten\n",
    "from keras.layers.convolutional import Conv2D, MaxPooling2D\n",
    "\n",
    "model = Sequential()\n",
    "\n",
    "# Ahora agregaremos más pares de capas CONV + POOL a fin de reducir más la\n",
    "# dimensión de la imagen antes de llegar a la capa flatten\n",
    "# Otra estrategia es ir aumentando la cantidad de filtros a medida que crece\n",
    "# la profundidad de la red\n",
    "\n",
    "# convolucional f=(3,3), # de filtros: 8, activación relu\n",
    "# max pooling f=2, s=2\n",
    "model.add(Conv2D(filters = 8, kernel_size = (3, 3), strides=1, padding='same', activation='relu', input_shape=(150, 150, 3)))\n",
    "model.add(MaxPooling2D(pool_size=2, strides=2, padding='valid'))\n",
    "# convolucional f=(3,3), # de filtros: 16, activación relu\n",
    "# max pooling f=2, s=2\n",
    "model.add(Conv2D(filters = 16, kernel_size = (3, 3), strides=1, padding='same', activation='relu'))\n",
    "model.add(MaxPooling2D(pool_size=2, strides=2))\n",
    "# convolucional f=(3,3), # de filtros: 32, activación relu\n",
    "# max pooling f=2, s=2\n",
    "model.add(Conv2D(filters = 32, kernel_size = (3, 3), strides=1, padding='same', activation='relu'))\n",
    "model.add(MaxPooling2D(pool_size=2, strides=2))\n",
    "# convolucional f=(3,3), # de filtros: 64, activación relu\n",
    "# max pooling f=2, s=2\n",
    "model.add(Conv2D(filters = 64, kernel_size = (3, 3), strides=1, padding='same', activation='relu'))\n",
    "model.add(MaxPooling2D(pool_size=2, strides=2))\n",
    "# capa flatten\n",
    "model.add(Flatten())\n",
    "# capa densa de 64 elementos activación relu\n",
    "model.add(Dense(units=128, activation='relu'))\n",
    "model.add(Dropout(rate=0.2))\n",
    "# capa densa con un output de 10 elemento con activación softmax\n",
    "model.add(Dense(units=out_shape, activation='softmax'))\n",
    "\n",
    "model.compile(optimizer=\"Adam\",\n",
    "              loss='categorical_crossentropy',\n",
    "              metrics=['accuracy'])\n",
    "\n",
    "model.summary()"
   ]
  },
  {
   "cell_type": "code",
   "execution_count": null,
   "metadata": {
    "colab": {
     "base_uri": "https://localhost:8080/"
    },
    "executionInfo": {
     "elapsed": 73750,
     "status": "ok",
     "timestamp": 1607271612389,
     "user": {
      "displayName": "inove",
      "photoUrl": "https://lh3.googleusercontent.com/a-/AOh14GhXN9lpkKFLA5gp8tW9cD3CZ1yGa9DUy9HZOgZm=s64",
      "userId": "03494171924251581304"
     },
     "user_tz": 180
    },
    "id": "J_89g3dSm2wf",
    "outputId": "1f79e285-3ba8-423f-c3c6-b48274f1a106"
   },
   "outputs": [],
   "source": [
    "history = model.fit(\n",
    "      train_generator,\n",
    "      steps_per_epoch=steps_per_epoch_train,\n",
    "      validation_data=validation_generator,\n",
    "      validation_steps=steps_per_epoch_validation,\n",
    "      epochs=10\n",
    "      )"
   ]
  },
  {
   "cell_type": "code",
   "execution_count": null,
   "metadata": {
    "colab": {
     "base_uri": "https://localhost:8080/",
     "height": 265
    },
    "executionInfo": {
     "elapsed": 1117,
     "status": "ok",
     "timestamp": 1607271756561,
     "user": {
      "displayName": "inove",
      "photoUrl": "https://lh3.googleusercontent.com/a-/AOh14GhXN9lpkKFLA5gp8tW9cD3CZ1yGa9DUy9HZOgZm=s64",
      "userId": "03494171924251581304"
     },
     "user_tz": 180
    },
    "id": "xDuagYJHvNlm",
    "outputId": "4332243d-9773-43a2-f20e-9f1454e54b91"
   },
   "outputs": [],
   "source": [
    "epoch_count = range(1, len(history.history['accuracy']) + 1)\n",
    "sns.lineplot(x=epoch_count,  y=history.history['accuracy'], label='train')\n",
    "sns.lineplot(x=epoch_count,  y=history.history['val_accuracy'], label='val')\n",
    "plt.show()"
   ]
  },
  {
   "cell_type": "code",
   "execution_count": null,
   "metadata": {
    "colab": {
     "base_uri": "https://localhost:8080/"
    },
    "executionInfo": {
     "elapsed": 1475,
     "status": "ok",
     "timestamp": 1607271761894,
     "user": {
      "displayName": "inove",
      "photoUrl": "https://lh3.googleusercontent.com/a-/AOh14GhXN9lpkKFLA5gp8tW9cD3CZ1yGa9DUy9HZOgZm=s64",
      "userId": "03494171924251581304"
     },
     "user_tz": 180
    },
    "id": "EsH5q9y6Qt1-",
    "outputId": "58bb8c56-bea0-4e9f-c7da-c7ca80595f9f"
   },
   "outputs": [],
   "source": [
    "# Predecir los datos\n",
    "test_datagen = ImageDataGenerator(rescale=1./255)\n",
    "\n",
    "test_generator = test_datagen.flow_from_directory(\n",
    "        directory=\"./simpsons_test\",\n",
    "        target_size=(150, 150),\n",
    "        batch_size=10,\n",
    "        class_mode=None,\n",
    "        shuffle=False)\n",
    "\n",
    "y_hat_prob = model.predict(test_generator)\n",
    "y_hat_prob[0]"
   ]
  },
  {
   "cell_type": "code",
   "execution_count": null,
   "metadata": {
    "colab": {
     "base_uri": "https://localhost:8080/"
    },
    "executionInfo": {
     "elapsed": 1410,
     "status": "ok",
     "timestamp": 1607271764364,
     "user": {
      "displayName": "inove",
      "photoUrl": "https://lh3.googleusercontent.com/a-/AOh14GhXN9lpkKFLA5gp8tW9cD3CZ1yGa9DUy9HZOgZm=s64",
      "userId": "03494171924251581304"
     },
     "user_tz": 180
    },
    "id": "qxs4EZSBAZoh",
    "outputId": "c8c6b1c6-ae98-4ec5-eca8-b85fd6da5583"
   },
   "outputs": [],
   "source": [
    "y_hat = np.argmax(y_hat_prob,axis=1)\n",
    "y_hat"
   ]
  },
  {
   "cell_type": "code",
   "execution_count": null,
   "metadata": {
    "colab": {
     "base_uri": "https://localhost:8080/"
    },
    "executionInfo": {
     "elapsed": 1423,
     "status": "ok",
     "timestamp": 1607271767068,
     "user": {
      "displayName": "inove",
      "photoUrl": "https://lh3.googleusercontent.com/a-/AOh14GhXN9lpkKFLA5gp8tW9cD3CZ1yGa9DUy9HZOgZm=s64",
      "userId": "03494171924251581304"
     },
     "user_tz": 180
    },
    "id": "iBqoGBsIS4Rr",
    "outputId": "eb0b9ca6-1a3b-4a83-f647-1c26327d50ee"
   },
   "outputs": [],
   "source": [
    "#¿Cómo obtenemos el \"y\" verdadero?\n",
    "test_generator.filenames"
   ]
  },
  {
   "cell_type": "code",
   "execution_count": null,
   "metadata": {
    "colab": {
     "base_uri": "https://localhost:8080/"
    },
    "executionInfo": {
     "elapsed": 1148,
     "status": "ok",
     "timestamp": 1607271769581,
     "user": {
      "displayName": "inove",
      "photoUrl": "https://lh3.googleusercontent.com/a-/AOh14GhXN9lpkKFLA5gp8tW9cD3CZ1yGa9DUy9HZOgZm=s64",
      "userId": "03494171924251581304"
     },
     "user_tz": 180
    },
    "id": "AaIy0eJFS_bn",
    "outputId": "d5f2970c-f3fb-436e-82d3-392c26c48997"
   },
   "outputs": [],
   "source": [
    "# Muy rebuscada esta forma de obtener los nombres de los personajes!\n",
    "# Pero en general cuando tenemos los datos de test no tenemos los nombres\n",
    "# por lo que no tenemos el \"y\" verdadero\n",
    "personajes_test = []\n",
    "for file in test_generator.filenames:\n",
    "    image_name = os.path.basename(file)\n",
    "    image_name_split = image_name.split(\"_\")\n",
    "    personaje_name_split = image_name_split[:len(image_name_split)-1]\n",
    "    personaje = personaje_name_split[0]\n",
    "    for name in personaje_name_split[1:]:\n",
    "        personaje += \"_\" + name\n",
    "    personajes_test.append(personaje)\n",
    "personajes_test"
   ]
  },
  {
   "cell_type": "code",
   "execution_count": null,
   "metadata": {
    "colab": {
     "base_uri": "https://localhost:8080/"
    },
    "executionInfo": {
     "elapsed": 1927,
     "status": "ok",
     "timestamp": 1607271772475,
     "user": {
      "displayName": "inove",
      "photoUrl": "https://lh3.googleusercontent.com/a-/AOh14GhXN9lpkKFLA5gp8tW9cD3CZ1yGa9DUy9HZOgZm=s64",
      "userId": "03494171924251581304"
     },
     "user_tz": 180
    },
    "id": "eUeviz_CUXlK",
    "outputId": "af31ddd4-0366-4e6c-94ab-50641e2ff9f6"
   },
   "outputs": [],
   "source": [
    "# Obtener el \"y\" verdadero\n",
    "y_test = [train_generator.class_indices[personaje] for personaje in personajes_test]\n",
    "y_test"
   ]
  },
  {
   "cell_type": "code",
   "execution_count": null,
   "metadata": {
    "id": "Ww_S7M1lw9oT"
   },
   "outputs": [],
   "source": [
    "# Descargar el modelo entrenado para usar en el futuro sin tener\n",
    "# que volver a entrenarlo\n",
    "model.save(\"cnn_simpsons_reducido.h5\")"
   ]
  },
  {
   "cell_type": "markdown",
   "metadata": {
    "id": "w3IfjUuI4XnD"
   },
   "source": [
    "# Validar modelo\n",
    "<img src=\"https://raw.githubusercontent.com/InoveAlumnos/dataset_analytics_python/master/images/Pipeline5.png\" width=\"1000\" align=\"middle\">"
   ]
  },
  {
   "cell_type": "code",
   "execution_count": null,
   "metadata": {
    "colab": {
     "base_uri": "https://localhost:8080/"
    },
    "executionInfo": {
     "elapsed": 1583,
     "status": "ok",
     "timestamp": 1607271775117,
     "user": {
      "displayName": "inove",
      "photoUrl": "https://lh3.googleusercontent.com/a-/AOh14GhXN9lpkKFLA5gp8tW9cD3CZ1yGa9DUy9HZOgZm=s64",
      "userId": "03494171924251581304"
     },
     "user_tz": 180
    },
    "id": "HnXeXHwdyHVx",
    "outputId": "308ed4f4-3d96-45ac-fe49-3fa26c7137eb"
   },
   "outputs": [],
   "source": [
    "# Calcular la exactitud (accuracy)\n",
    "from sklearn.metrics import accuracy_score\n",
    "accuracy_score(y_test, y_hat)"
   ]
  },
  {
   "cell_type": "code",
   "execution_count": null,
   "metadata": {
    "colab": {
     "base_uri": "https://localhost:8080/",
     "height": 283
    },
    "executionInfo": {
     "elapsed": 1582,
     "status": "ok",
     "timestamp": 1607267591795,
     "user": {
      "displayName": "inove",
      "photoUrl": "https://lh3.googleusercontent.com/a-/AOh14GhXN9lpkKFLA5gp8tW9cD3CZ1yGa9DUy9HZOgZm=s64",
      "userId": "03494171924251581304"
     },
     "user_tz": 180
    },
    "id": "TeLeYLYz6ZhO",
    "outputId": "5e8c3be5-5563-4ffd-b636-456e83ec365f"
   },
   "outputs": [],
   "source": [
    "from sklearn.metrics import confusion_matrix, ConfusionMatrixDisplay\n",
    "cm = confusion_matrix(y_test, y_hat)\n",
    "cmd = ConfusionMatrixDisplay(cm, display_labels=range(47))\n",
    "cmd.plot(cmap=plt.cm.Blues)\n",
    "plt.show()"
   ]
  },
  {
   "cell_type": "markdown",
   "metadata": {
    "id": "9dZxGbjG96jR"
   },
   "source": [
    "# Utilizar modelo\n",
    "<img src=\"https://raw.githubusercontent.com/InoveAlumnos/dataset_analytics_python/master/images/Pipeline6.png\" width=\"1000\" align=\"middle\">"
   ]
  },
  {
   "cell_type": "markdown",
   "metadata": {
    "id": "M6Tc5nBqbow8"
   },
   "source": [
    "Se utiliza el ranking de los peores 10 números clasificados con una ANN para evlauar contra este nuevo modelo de red neuronal"
   ]
  },
  {
   "cell_type": "code",
   "execution_count": null,
   "metadata": {
    "id": "noOsuU6Tb4GZ"
   },
   "outputs": [],
   "source": [
    "batch_test = test_generator.next()"
   ]
  },
  {
   "cell_type": "code",
   "execution_count": null,
   "metadata": {
    "colab": {
     "base_uri": "https://localhost:8080/",
     "height": 485
    },
    "executionInfo": {
     "elapsed": 2742,
     "status": "ok",
     "timestamp": 1607267603378,
     "user": {
      "displayName": "inove",
      "photoUrl": "https://lh3.googleusercontent.com/a-/AOh14GhXN9lpkKFLA5gp8tW9cD3CZ1yGa9DUy9HZOgZm=s64",
      "userId": "03494171924251581304"
     },
     "user_tz": 180
    },
    "id": "Cefy3ktFb6j6",
    "outputId": "c493dfc9-eadb-4487-af90-f609458749ee"
   },
   "outputs": [],
   "source": [
    "# Observar las primeras 5 imagenes de ese batch\n",
    "fig = plt.figure(figsize=(16,9))\n",
    "for i in range(10):\n",
    "    ax = fig.add_subplot(2, 5, i+1)\n",
    "    ax.imshow(batch_test[i])\n",
    "    numero_clase = y_hat[i]\n",
    "    ax.set_title(index_to_classes[numero_clase])\n",
    "plt.show()"
   ]
  },
  {
   "cell_type": "markdown",
   "metadata": {
    "id": "h7yzVZcZ9-4m"
   },
   "source": [
    "# Conclusión\n",
    "<img src=\"https://raw.githubusercontent.com/InoveAlumnos/dataset_analytics_python/master/images/Pipeline7.png\" width=\"1000\" align=\"middle\">"
   ]
  },
  {
   "cell_type": "markdown",
   "metadata": {
    "id": "sWAReOgo-B7b"
   },
   "source": [
    "Se pudo ver en este ejemplo que el hecho de haber reducido el tamaño del dataset hizo que el entrenamiento se hiciera más rápido pero se produjo overfitting, el sistema durante el entrenamiento (train) creo que está logrando buenos resultados pero la validación no lo acompaña. Se puede ver que la cantidad de datos es FUNDAMENTAL en deep learning."
   ]
  }
 ],
 "metadata": {
  "accelerator": "GPU",
  "colab": {
   "collapsed_sections": [],
   "name": "1_simpsons_reducido.ipynb",
   "provenance": []
  },
  "kernelspec": {
   "display_name": "Python 3",
   "language": "python",
   "name": "python3"
  },
  "language_info": {
   "codemirror_mode": {
    "name": "ipython",
    "version": 3
   },
   "file_extension": ".py",
   "mimetype": "text/x-python",
   "name": "python",
   "nbconvert_exporter": "python",
   "pygments_lexer": "ipython3",
   "version": "3.7.0"
  }
 },
 "nbformat": 4,
 "nbformat_minor": 4
}
