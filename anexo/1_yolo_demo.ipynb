{
  "nbformat": 4,
  "nbformat_minor": 0,
  "metadata": {
    "colab": {
      "name": "1_yolo_demo.ipynb",
      "provenance": [],
      "collapsed_sections": []
    },
    "kernelspec": {
      "name": "python3",
      "display_name": "Python 3"
    },
    "accelerator": "GPU"
  },
  "cells": [
    {
      "cell_type": "markdown",
      "metadata": {
        "id": "-2iG_qHQiwDQ"
      },
      "source": [
        "<a href=\"https://www.inove.com.ar\"><img src=\"https://raw.githubusercontent.com/InoveAlumnos/dataset_analytics_python/master/images/PA%20Banner.png\" width=\"1000\" align=\"center\"></a>\n",
        "\n",
        "\n",
        "# Demo de Yolo (you only looks once)\n",
        "\n",
        "Detección de objetos en imagenes<br>\n",
        "\n",
        "Esta demo está basada en el siguiente repositorio<br>\n",
        "[Dataset source](https://github.com/pythonlessons/TensorFlow-2.x-YOLOv3)\n",
        "<br>\n",
        "v1.1"
      ]
    },
    {
      "cell_type": "code",
      "metadata": {
        "id": "WEC21aLIvSiy"
      },
      "source": [
        "import os\n",
        "import platform\n",
        "\n",
        "import numpy as np\n",
        "import matplotlib.pyplot as plt\n",
        "import matplotlib.image as mpimg"
      ],
      "execution_count": null,
      "outputs": []
    },
    {
      "cell_type": "code",
      "metadata": {
        "id": "OrWH-2JuUFjf"
      },
      "source": [
        "!pip install tensorflow==2.3.1\n",
        "!pip install tensorflow-gpu==2.3.1"
      ],
      "execution_count": null,
      "outputs": []
    },
    {
      "cell_type": "code",
      "metadata": {
        "id": "GG0-gGhQxgS-"
      },
      "source": [
        "# Descargar la carpeta demo\n",
        "if os.access('yolo_demo', os.F_OK) is False:\n",
        "    if os.access('yolo_demo.zip', os.F_OK) is False:\n",
        "        if platform.system() == 'Windows':\n",
        "            !curl https://github.com/InoveAlumnos/transfer_learning_python/raw/main/anexo/yolo_demo.zip > yolo_demo.zip\n",
        "        else:\n",
        "            !wget yolo_demo.zip https://github.com/InoveAlumnos/transfer_learning_python/raw/main/anexo/yolo_demo.zip\n",
        "    !unzip -q yolo_demo.zip\n",
        "else:\n",
        "    print(\"El archivo ya se encuentra descargado\")"
      ],
      "execution_count": null,
      "outputs": []
    },
    {
      "cell_type": "code",
      "metadata": {
        "id": "PV5utD5sjSgP"
      },
      "source": [
        "# Descargar los pesos\n",
        "import gdown\n",
        "if os.access('./model_data/yolov3.weights', os.F_OK) is False:\n",
        "    url = 'https://drive.google.com/uc?id=1xOpcOlyZazI3FG5cnDoMHdE3cQuy_s5Z'\n",
        "    output = './model_data/yolov3.weights'\n",
        "    gdown.download(url, output, quiet=False)"
      ],
      "execution_count": null,
      "outputs": []
    },
    {
      "cell_type": "code",
      "metadata": {
        "id": "tASuNwUN3lNW"
      },
      "source": [
        "# Descargar la imagen de prueba\n",
        "if os.access('street.jpg', os.F_OK) is False:\n",
        "    if platform.system() == 'Windows':\n",
        "        !curl https://raw.githubusercontent.com/InoveAlumnos/transfer_learning_python/main/imagenes/street.jpg > street.jpg\n",
        "    else:\n",
        "        !wget street.jpg https://raw.githubusercontent.com/InoveAlumnos/transfer_learning_python/main/imagenes/street.jpg"
      ],
      "execution_count": null,
      "outputs": []
    },
    {
      "cell_type": "code",
      "metadata": {
        "id": "-ZCR7FFP340y"
      },
      "source": [
        "# Descargar el video de prueba\n",
        "if os.access('video.mp4', os.F_OK) is False:\n",
        "    if platform.system() == 'Windows':\n",
        "        !curl https://github.com/InoveAlumnos/transfer_learning_python/raw/main/imagenes/video.mp4 > video.mp4\n",
        "    else:\n",
        "        !wget video.mp4 https://github.com/InoveAlumnos/transfer_learning_python/raw/main/imagenes/video.mp4"
      ],
      "execution_count": null,
      "outputs": []
    },
    {
      "cell_type": "markdown",
      "metadata": {
        "id": "CEdbrjRRqQF5"
      },
      "source": [
        "## COCO Dataset\n",
        "https://tech.amikelive.com/node-718/what-object-categories-labels-are-in-coco-dataset/"
      ]
    },
    {
      "cell_type": "markdown",
      "metadata": {
        "id": "ZkPcy-dEqN9C"
      },
      "source": [
        "## Ensayos"
      ]
    },
    {
      "cell_type": "code",
      "metadata": {
        "id": "rXc4ZRGqnlP4"
      },
      "source": [
        "import os\n",
        "os.environ['CUDA_VISIBLE_DEVICES'] = '0'\n",
        "import cv2\n",
        "import numpy as np\n",
        "import tensorflow as tf\n",
        "import time\n",
        "from google.colab.patches import cv2_imshow"
      ],
      "execution_count": null,
      "outputs": []
    },
    {
      "cell_type": "code",
      "metadata": {
        "id": "ODVQGwgarmsi"
      },
      "source": [
        "from yolov3.utils import detect_image, detect_realtime, detect_video, Load_Yolo_model, detect_video_realtime_mp\n",
        "from yolov3.configs import *\n",
        "def detectar_imagen(image_path):\n",
        "    out_path = \"yolo_\" + os.path.basename(image_path)\n",
        "    print(\"input source:\", image_path)\n",
        "    print(\"output source:\", out_path)\n",
        "\n",
        "    yolo = Load_Yolo_model()\n",
        "    new_image = detect_image(yolo, image_path, out_path, input_size=YOLO_INPUT_SIZE, show=False, rectangle_colors=(255,0,0))\n",
        "    cv2_imshow(new_image)"
      ],
      "execution_count": null,
      "outputs": []
    },
    {
      "cell_type": "code",
      "metadata": {
        "id": "VrBZnXxQqnm_"
      },
      "source": [
        "detectar_imagen(\"street.jpg\")"
      ],
      "execution_count": null,
      "outputs": []
    },
    {
      "cell_type": "code",
      "metadata": {
        "id": "I4Ogy_Tw4O-k"
      },
      "source": [
        "from yolov3.utils import detect_image, detect_realtime, detect_video, Load_Yolo_model, detect_video_realtime_mp\n",
        "from yolov3.configs import *\n",
        "def detectar_video(video_path):\n",
        "    out_path = \"yolo_\" + os.path.basename(video_path)\n",
        "    print(\"input source:\", video_path)\n",
        "    print(\"output source:\", out_path)\n",
        "\n",
        "    yolo = Load_Yolo_model()\n",
        "    detect_video(yolo, video_path, out_path, input_size=YOLO_INPUT_SIZE, show=False, rectangle_colors=(255,0,0))"
      ],
      "execution_count": null,
      "outputs": []
    },
    {
      "cell_type": "code",
      "metadata": {
        "id": "r4xf45Mv4t7A"
      },
      "source": [
        "detectar_video(\"video.mp4\")"
      ],
      "execution_count": null,
      "outputs": []
    },
    {
      "cell_type": "code",
      "source": [
        "import numpy as np\n",
        "from yolov3.utils import detect_frame, Load_Yolo_model\n",
        "from yolov3.configs import *\n",
        "\n",
        "video_path = \"video.mp4\"\n",
        "video_out_path = \"yolo2_\" + os.path.basename(video_path)\n",
        "print(\"input source:\", video_path)\n",
        "print(\"output source:\", video_out_path)\n",
        "vid = cv2.VideoCapture(video_path)\n",
        "#vid = cv2.VideoCapture(0) # Para captar una webcam\n",
        "\n",
        "# Datos del video\n",
        "width = int(vid.get(cv2.CAP_PROP_FRAME_WIDTH))\n",
        "height = int(vid.get(cv2.CAP_PROP_FRAME_HEIGHT))\n",
        "fps = int(vid.get(cv2.CAP_PROP_FPS))\n",
        "codec = cv2.VideoWriter_fourcc(*'XVID')\n",
        "out = cv2.VideoWriter(video_out_path, codec, fps, (width, height)) # output_path must be .mp4\n",
        "\n",
        "print(f\"Video de {width}x{height} de {fps}fps\")\n",
        "\n",
        "yolo = Load_Yolo_model()\n",
        "\n",
        "while True:\n",
        "    _, frame = vid.read()\n",
        "\n",
        "    if np.shape(frame) == ():\n",
        "        # Fin del video\n",
        "        break\n",
        "\n",
        "    t1 = time.time()\n",
        "\n",
        "    # Detectar personas en este frame\n",
        "    new_image = detect_frame(yolo, frame, output_path='', input_size=YOLO_INPUT_SIZE, show=False, rectangle_colors=(255,0,0))\n",
        "\n",
        "    t2 = time.time()\n",
        "\n",
        "    fps = 1 / (t2-t1)\n",
        "      \n",
        "    print(f\"Detection FPS: {fps:.1f}\")\n",
        "    # Grabar detecciones en un archivo\n",
        "    if video_out_path != '':\n",
        "        out.write(new_image)\n",
        "\n",
        "# Cerrar ventanas (no es el caso de colab)\n",
        "cv2.destroyAllWindows()\n",
        "\n",
        "# Cerrar archivo de video (file close)\n",
        "out.release()"
      ],
      "metadata": {
        "id": "J1LGtWb0RupE"
      },
      "execution_count": null,
      "outputs": []
    }
  ]
}