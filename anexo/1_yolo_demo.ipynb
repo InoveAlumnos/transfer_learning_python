{
 "cells": [
  {
   "cell_type": "markdown",
   "metadata": {
    "id": "-2iG_qHQiwDQ"
   },
   "source": [
    "<a href=\"https://www.inove.com.ar\"><img src=\"https://raw.githubusercontent.com/InoveAlumnos/dataset_analytics_python/master/images/PA%20Banner.png\" width=\"1000\" align=\"center\"></a>\n",
    "\n",
    "\n",
    "# Demo de Yolo (you only looks once)\n",
    "\n",
    "Detección de objetos en imagenes<br>\n",
    "\n",
    "Esta demo está basada en el siguiente repositorio<br>\n",
    "[Dataset source](https://github.com/pythonlessons/TensorFlow-2.x-YOLOv3)\n",
    "<br>\n",
    "v1.1"
   ]
  },
  {
   "cell_type": "code",
   "execution_count": null,
   "metadata": {
    "id": "WEC21aLIvSiy"
   },
   "outputs": [],
   "source": [
    "import os\n",
    "import platform\n",
    "\n",
    "import numpy as np\n",
    "import matplotlib.pyplot as plt\n",
    "import matplotlib.image as mpimg"
   ]
  },
  {
   "cell_type": "code",
   "execution_count": null,
   "metadata": {
    "colab": {
     "base_uri": "https://localhost:8080/",
     "height": 1000
    },
    "id": "OrWH-2JuUFjf",
    "outputId": "772f6116-10e3-438e-98ad-5c60bebb5d94"
   },
   "outputs": [],
   "source": [
    "!pip install tensorflow==2.3.1\n",
    "!pip install tensorflow-gpu==2.3.1"
   ]
  },
  {
   "cell_type": "code",
   "execution_count": null,
   "metadata": {
    "colab": {
     "base_uri": "https://localhost:8080/"
    },
    "id": "GG0-gGhQxgS-",
    "outputId": "f184ba6d-866c-4f68-a5fc-61735e9a367b"
   },
   "outputs": [],
   "source": [
    "# Descargar la carpeta demo\n",
    "if os.access('model_data', os.F_OK) is False:\n",
    "    if os.access('yolo_demo.zip', os.F_OK) is False:\n",
    "        if platform.system() == 'Windows':\n",
    "            !curl https://github.com/InoveAlumnos/transfer_learning_python/raw/main/anexo/yolo_demo.zip > yolo_demo.zip\n",
    "        else:\n",
    "            !wget yolo_demo.zip https://github.com/InoveAlumnos/transfer_learning_python/raw/main/anexo/yolo_demo.zip\n",
    "    !unzip -q yolo_demo.zip\n",
    "else:\n",
    "    print(\"El archivo ya se encuentra descargado\")"
   ]
  },
  {
   "cell_type": "code",
   "execution_count": null,
   "metadata": {
    "colab": {
     "base_uri": "https://localhost:8080/"
    },
    "id": "PV5utD5sjSgP",
    "outputId": "f9485ed4-4ee1-4a8a-bfa2-c62fefa0a1e2"
   },
   "outputs": [],
   "source": [
    "# Descargar los pesos\n",
    "import gdown\n",
    "if os.access('./model_data/yolov3.weights', os.F_OK) is False:\n",
    "    url = 'https://drive.google.com/uc?id=1RXphvkmwGcqJ7AsVhb1IeOQxDIv3wFbj'\n",
    "    output = './model_data/yolov3.weights'\n",
    "    gdown.download(url, output, quiet=False)"
   ]
  },
  {
   "cell_type": "code",
   "execution_count": null,
   "metadata": {
    "colab": {
     "base_uri": "https://localhost:8080/"
    },
    "id": "tASuNwUN3lNW",
    "outputId": "23f85070-3a1b-45cf-dfff-bc99d4485a45"
   },
   "outputs": [],
   "source": [
    "# Descargar la imagen de prueba\n",
    "if os.access('street.jpg', os.F_OK) is False:\n",
    "    if platform.system() == 'Windows':\n",
    "        !curl https://raw.githubusercontent.com/InoveAlumnos/transfer_learning_python/main/imagenes/street.jpg > street.jpg\n",
    "    else:\n",
    "        !wget street.jpg https://raw.githubusercontent.com/InoveAlumnos/transfer_learning_python/main/imagenes/street.jpg"
   ]
  },
  {
   "cell_type": "code",
   "execution_count": null,
   "metadata": {
    "colab": {
     "base_uri": "https://localhost:8080/"
    },
    "id": "-ZCR7FFP340y",
    "outputId": "466a7bab-eb17-4bb5-8338-de3db7315d57"
   },
   "outputs": [],
   "source": [
    "# Descargar el video de prueba\n",
    "if os.access('video.mp4', os.F_OK) is False:\n",
    "    if platform.system() == 'Windows':\n",
    "        !curl https://github.com/InoveAlumnos/transfer_learning_python/raw/main/imagenes/video.mp4 > video.mp4\n",
    "    else:\n",
    "        !wget video.mp4 https://github.com/InoveAlumnos/transfer_learning_python/raw/main/imagenes/video.mp4"
   ]
  },
  {
   "cell_type": "markdown",
   "metadata": {
    "id": "CEdbrjRRqQF5"
   },
   "source": [
    "## COCO Dataset\r\n",
    "https://tech.amikelive.com/node-718/what-object-categories-labels-are-in-coco-dataset/"
   ]
  },
  {
   "cell_type": "markdown",
   "metadata": {
    "id": "ZkPcy-dEqN9C"
   },
   "source": [
    "## Ensayos"
   ]
  },
  {
   "cell_type": "code",
   "execution_count": null,
   "metadata": {
    "id": "rXc4ZRGqnlP4"
   },
   "outputs": [],
   "source": [
    "import os\n",
    "os.environ['CUDA_VISIBLE_DEVICES'] = '0'\n",
    "import cv2\n",
    "import numpy as np\n",
    "import tensorflow as tf\n",
    "import time\n",
    "from google.colab.patches import cv2_imshow"
   ]
  },
  {
   "cell_type": "code",
   "execution_count": null,
   "metadata": {
    "id": "ODVQGwgarmsi"
   },
   "outputs": [],
   "source": [
    "from yolov3.utils import detect_image, detect_realtime, detect_video, Load_Yolo_model, detect_video_realtime_mp\n",
    "from yolov3.configs import *\n",
    "def detectar_imagen(image_path):\n",
    "    out_path = \"yolo_\" + os.path.basename(image_path)\n",
    "    print(\"input source:\", image_path)\n",
    "    print(\"output source:\", out_path)\n",
    "\n",
    "    yolo = Load_Yolo_model()\n",
    "    new_image = detect_image(yolo, image_path, out_path, input_size=YOLO_INPUT_SIZE, show=False, rectangle_colors=(255,0,0))\n",
    "    cv2_imshow(new_image)"
   ]
  },
  {
   "cell_type": "code",
   "execution_count": null,
   "metadata": {
    "colab": {
     "base_uri": "https://localhost:8080/",
     "height": 702
    },
    "id": "VrBZnXxQqnm_",
    "outputId": "4ac0839e-6aa0-40a5-a823-ee9546c7b666"
   },
   "outputs": [],
   "source": [
    "detectar_imagen(\"street.jpg\")"
   ]
  },
  {
   "cell_type": "code",
   "execution_count": null,
   "metadata": {
    "id": "I4Ogy_Tw4O-k"
   },
   "outputs": [],
   "source": [
    "from yolov3.utils import detect_image, detect_realtime, detect_video, Load_Yolo_model, detect_video_realtime_mp\n",
    "from yolov3.configs import *\n",
    "def detectar_video(video_path):\n",
    "    out_path = \"yolo_\" + os.path.basename(video_path)\n",
    "    print(\"input source:\", video_path)\n",
    "    print(\"output source:\", out_path)\n",
    "\n",
    "    yolo = Load_Yolo_model()\n",
    "    detect_video(yolo, video_path, out_path, input_size=YOLO_INPUT_SIZE, show=False, rectangle_colors=(255,0,0))"
   ]
  },
  {
   "cell_type": "code",
   "execution_count": null,
   "metadata": {
    "colab": {
     "base_uri": "https://localhost:8080/"
    },
    "id": "r4xf45Mv4t7A",
    "outputId": "1fae7bc7-5ff4-4b12-daee-1a94c12063d4"
   },
   "outputs": [],
   "source": [
    "detectar_video(\"video.mp4\")"
   ]
  }
 ],
 "metadata": {
  "accelerator": "GPU",
  "colab": {
   "collapsed_sections": [],
   "name": "1_yolo_demo.ipynb",
   "provenance": [],
   "toc_visible": true
  },
  "kernelspec": {
   "display_name": "Python 3",
   "language": "python",
   "name": "python3"
  },
  "language_info": {
   "codemirror_mode": {
    "name": "ipython",
    "version": 3
   },
   "file_extension": ".py",
   "mimetype": "text/x-python",
   "name": "python",
   "nbconvert_exporter": "python",
   "pygments_lexer": "ipython3",
   "version": "3.7.0"
  }
 },
 "nbformat": 4,
 "nbformat_minor": 4
}
